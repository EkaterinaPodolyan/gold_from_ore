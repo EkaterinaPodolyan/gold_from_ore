{
 "cells": [
  {
   "cell_type": "markdown",
   "metadata": {
    "toc": true
   },
   "source": [
    "<h1>Содержание<span class=\"tocSkip\"></span></h1>\n",
    "<div class=\"toc\"><ul class=\"toc-item\"><li><span><a href=\"#Подготовка-данных\" data-toc-modified-id=\"Подготовка-данных-1\"><span class=\"toc-item-num\">1&nbsp;&nbsp;</span>Подготовка данных</a></span><ul class=\"toc-item\"><li><span><a href=\"#Заменим-тип-данных-'object'-в-столбце-'date'-на-тип-'datetime'\" data-toc-modified-id=\"Заменим-тип-данных-'object'-в-столбце-'date'-на-тип-'datetime'-1.1\"><span class=\"toc-item-num\">1.1&nbsp;&nbsp;</span>Заменим тип данных 'object' в столбце 'date' на тип 'datetime'</a></span></li><li><span><a href=\"#Заполнение-пропусков\" data-toc-modified-id=\"Заполнение-пропусков-1.2\"><span class=\"toc-item-num\">1.2&nbsp;&nbsp;</span>Заполнение пропусков</a></span></li><li><span><a href=\"#Вычисление-эффективности-обогащения\" data-toc-modified-id=\"Вычисление-эффективности-обогащения-1.3\"><span class=\"toc-item-num\">1.3&nbsp;&nbsp;</span>Вычисление эффективности обогащения</a></span></li><li><span><a href=\"#Вычисление-МАЕ\" data-toc-modified-id=\"Вычисление-МАЕ-1.4\"><span class=\"toc-item-num\">1.4&nbsp;&nbsp;</span>Вычисление МАЕ</a></span></li><li><span><a href=\"#Необходимо-проанализировать-признаки,-недоступные-в-тестовой-выборке.\" data-toc-modified-id=\"Необходимо-проанализировать-признаки,-недоступные-в-тестовой-выборке.-1.5\"><span class=\"toc-item-num\">1.5&nbsp;&nbsp;</span>Необходимо проанализировать признаки, недоступные в тестовой выборке.</a></span></li><li><span><a href=\"#Добавляем-целевые-признаки-в-тестовую-выборку\" data-toc-modified-id=\"Добавляем-целевые-признаки-в-тестовую-выборку-1.6\"><span class=\"toc-item-num\">1.6&nbsp;&nbsp;</span>Добавляем целевые признаки в тестовую выборку</a></span></li><li><span><a href=\"#Удаление-колонки--'date'-из-тренировочной-и-тестовой-выборки\" data-toc-modified-id=\"Удаление-колонки--'date'-из-тренировочной-и-тестовой-выборки-1.7\"><span class=\"toc-item-num\">1.7&nbsp;&nbsp;</span>Удаление колонки  'date' из тренировочной и тестовой выборки</a></span></li><li><span><a href=\"#Вывод:\" data-toc-modified-id=\"Вывод:-1.8\"><span class=\"toc-item-num\">1.8&nbsp;&nbsp;</span>Вывод:</a></span></li></ul></li><li><span><a href=\"#Анализ-данных\" data-toc-modified-id=\"Анализ-данных-2\"><span class=\"toc-item-num\">2&nbsp;&nbsp;</span>Анализ данных</a></span><ul class=\"toc-item\"><li><span><a href=\"#Концентрация-металлов-(Au,-Ag,-Pb)-на-различных-этапах-очистки\" data-toc-modified-id=\"Концентрация-металлов-(Au,-Ag,-Pb)-на-различных-этапах-очистки-2.1\"><span class=\"toc-item-num\">2.1&nbsp;&nbsp;</span>Концентрация металлов (Au, Ag, Pb) на различных этапах очистки</a></span></li><li><span><a href=\"#Сравним-распределение-гранул-исходного-сырья-на-обучающей-и-тестовой-выборках.\" data-toc-modified-id=\"Сравним-распределение-гранул-исходного-сырья-на-обучающей-и-тестовой-выборках.-2.2\"><span class=\"toc-item-num\">2.2&nbsp;&nbsp;</span>Сравним распределение гранул исходного сырья на обучающей и тестовой выборках.</a></span></li><li><span><a href=\"#Исследуем-суммарную-концентрацию-металлов-в-концентратах-на-разных-стадиях-очистки.\" data-toc-modified-id=\"Исследуем-суммарную-концентрацию-металлов-в-концентратах-на-разных-стадиях-очистки.-2.3\"><span class=\"toc-item-num\">2.3&nbsp;&nbsp;</span>Исследуем суммарную концентрацию металлов в концентратах на разных стадиях очистки.</a></span></li><li><span><a href=\"#Избавимся-от-выбросов\" data-toc-modified-id=\"Избавимся-от-выбросов-2.4\"><span class=\"toc-item-num\">2.4&nbsp;&nbsp;</span>Избавимся от выбросов</a></span></li><li><span><a href=\"#Вывод:\" data-toc-modified-id=\"Вывод:-2.5\"><span class=\"toc-item-num\">2.5&nbsp;&nbsp;</span>Вывод:</a></span></li></ul></li><li><span><a href=\"#Модель\" data-toc-modified-id=\"Модель-3\"><span class=\"toc-item-num\">3&nbsp;&nbsp;</span>Модель</a></span><ul class=\"toc-item\"><li><span><a href=\"#Напишем-функцию-для-вычисления-итоговой-smape.\" data-toc-modified-id=\"Напишем-функцию-для-вычисления-итоговой-smape.-3.1\"><span class=\"toc-item-num\">3.1&nbsp;&nbsp;</span>Напишем функцию для вычисления итоговой smape.</a></span></li><li><span><a href=\"#Обучим-модели--и-оценим-их-качество-кросс-валидацией\" data-toc-modified-id=\"Обучим-модели--и-оценим-их-качество-кросс-валидацией-3.2\"><span class=\"toc-item-num\">3.2&nbsp;&nbsp;</span>Обучим модели  и оценим их качество кросс-валидацией</a></span><ul class=\"toc-item\"><li><span><a href=\"#подготовим-данные\" data-toc-modified-id=\"подготовим-данные-3.2.1\"><span class=\"toc-item-num\">3.2.1&nbsp;&nbsp;</span>подготовим данные</a></span></li><li><span><a href=\"#Обучим-модель-линейной-регрессии\" data-toc-modified-id=\"Обучим-модель-линейной-регрессии-3.2.2\"><span class=\"toc-item-num\">3.2.2&nbsp;&nbsp;</span>Обучим модель линейной регрессии</a></span></li><li><span><a href=\"#Обучим-модель-дерева-решений\" data-toc-modified-id=\"Обучим-модель-дерева-решений-3.2.3\"><span class=\"toc-item-num\">3.2.3&nbsp;&nbsp;</span>Обучим модель дерева решений</a></span></li><li><span><a href=\"#Теперь-обучим-модель-случайного-леса\" data-toc-modified-id=\"Теперь-обучим-модель-случайного-леса-3.2.4\"><span class=\"toc-item-num\">3.2.4&nbsp;&nbsp;</span>Теперь обучим модель случайного леса</a></span></li></ul></li><li><span><a href=\"#Проверим-лучшую-модель-на-тестовой-выборке\" data-toc-modified-id=\"Проверим-лучшую-модель-на-тестовой-выборке-3.3\"><span class=\"toc-item-num\">3.3&nbsp;&nbsp;</span>Проверим лучшую модель на тестовой выборке</a></span></li><li><span><a href=\"#Вывод:\" data-toc-modified-id=\"Вывод:-3.4\"><span class=\"toc-item-num\">3.4&nbsp;&nbsp;</span>Вывод:</a></span></li></ul></li><li><span><a href=\"#Вывод:\" data-toc-modified-id=\"Вывод:-4\"><span class=\"toc-item-num\">4&nbsp;&nbsp;</span>Вывод:</a></span></li><li><span><a href=\"#Чек-лист-готовности-проекта\" data-toc-modified-id=\"Чек-лист-готовности-проекта-5\"><span class=\"toc-item-num\">5&nbsp;&nbsp;</span>Чек-лист готовности проекта</a></span></li></ul></div>"
   ]
  },
  {
   "cell_type": "markdown",
   "metadata": {},
   "source": [
    "# Восстановление золота из руды"
   ]
  },
  {
   "cell_type": "markdown",
   "metadata": {},
   "source": [
    "Подготовьте прототип модели машинного обучения для «Цифры». Компания разрабатывает решения для эффективной работы промышленных предприятий.\n",
    "\n",
    "Модель должна предсказать коэффициент восстановления золота из золотосодержащей руды. Используйте данные с параметрами добычи и очистки. \n",
    "\n",
    "Модель поможет оптимизировать производство, чтобы не запускать предприятие с убыточными характеристиками.\n",
    "\n",
    "Вам нужно:\n",
    "\n",
    "1. Подготовить данные;\n",
    "2. Провести исследовательский анализ данных;\n",
    "3. Построить и обучить модель.\n"
   ]
  },
  {
   "cell_type": "markdown",
   "metadata": {},
   "source": [
    "## Подготовка данных"
   ]
  },
  {
   "cell_type": "code",
   "execution_count": 1,
   "metadata": {},
   "outputs": [],
   "source": [
    "import pandas as pd\n",
    "import numpy as np\n",
    "from sklearn.metrics import mean_absolute_error as mae\n",
    "import matplotlib.pyplot as plt\n",
    "import seaborn as sns\n",
    "from sklearn.linear_model import LinearRegression\n",
    "from sklearn.model_selection import cross_val_score\n",
    "from sklearn.model_selection import train_test_split\n",
    "from sklearn.metrics import make_scorer\n",
    "from sklearn.tree import DecisionTreeRegressor\n",
    "from sklearn.ensemble import RandomForestRegressor\n",
    "from sklearn.dummy import DummyRegressor"
   ]
  },
  {
   "cell_type": "code",
   "execution_count": 2,
   "metadata": {},
   "outputs": [],
   "source": [
    "try:\n",
    "    data_train = pd.read_csv(\"gold_train.csv\")\n",
    "except:\n",
    "    print(\"can't open the file 'gold_train'\")\n",
    "try:\n",
    "    data_test = pd.read_csv(\"gold_test.csv\")\n",
    "except:\n",
    "    print(\"can't open the file 'gold_test.csv'\")\n",
    "try:\n",
    "    data_full = pd.read_csv(\"gold_full.csv\")\n",
    "except:\n",
    "    print(\"can't open the file 'gold_full.csv'\")"
   ]
  },
  {
   "cell_type": "code",
   "execution_count": 3,
   "metadata": {},
   "outputs": [],
   "source": [
    "def checking_the_input_data(data):\n",
    "    print(data.head())\n",
    "    print('******************************************************')\n",
    "    print(\"shape\", data.shape)\n",
    "    print('******************************************************')\n",
    "    print(\"isna\",data.isna().sum())\n",
    "    print('******************************************************')\n",
    "    print(\"duplicated\", data.duplicated().sum())\n",
    "    print('******************************************************')\n",
    "    print(\"info\", data.info())"
   ]
  },
  {
   "cell_type": "code",
   "execution_count": 4,
   "metadata": {},
   "outputs": [
    {
     "name": "stdout",
     "output_type": "stream",
     "text": [
      "                  date  rougher.input.feed_au  rougher.input.feed_ag  \\\n",
      "0  2016-01-15 00:00:00               6.486150               6.100378   \n",
      "1  2016-01-15 01:00:00               6.478583               6.161113   \n",
      "2  2016-01-15 02:00:00               6.362222               6.116455   \n",
      "3  2016-01-15 03:00:00               6.118189               6.043309   \n",
      "4  2016-01-15 04:00:00               5.663707               6.060915   \n",
      "\n",
      "   rougher.input.feed_pb  rougher.input.feed_sol  rougher.input.feed_rate  \\\n",
      "0               2.284912               36.808594               523.546326   \n",
      "1               2.266033               35.753385               525.290581   \n",
      "2               2.159622               35.971630               530.026610   \n",
      "3               2.037807               36.862241               542.590390   \n",
      "4               1.786875               34.347666               540.531893   \n",
      "\n",
      "   rougher.input.feed_size  rougher.input.floatbank10_sulfate  \\\n",
      "0                55.486599                          11.986616   \n",
      "1                57.278666                          11.971193   \n",
      "2                57.510649                          11.920603   \n",
      "3                57.792734                          11.630094   \n",
      "4                56.047189                          10.957755   \n",
      "\n",
      "   rougher.input.floatbank10_xanthate  rougher.state.floatbank10_a_air  ...  \\\n",
      "0                            6.007990                       999.706909  ...   \n",
      "1                            6.005766                      1000.286398  ...   \n",
      "2                            6.197377                       999.719565  ...   \n",
      "3                            6.203177                       999.814770  ...   \n",
      "4                            6.198826                       999.678690  ...   \n",
      "\n",
      "   secondary_cleaner.output.tail_sol  final.output.concentrate_au  \\\n",
      "0                           8.764648                    42.192020   \n",
      "1                           9.001494                    42.701629   \n",
      "2                           8.842896                    42.657501   \n",
      "3                           9.122857                    42.689819   \n",
      "4                           8.871028                    42.774141   \n",
      "\n",
      "   final.output.concentrate_ag  final.output.concentrate_pb  \\\n",
      "0                     6.055403                     9.889648   \n",
      "1                     6.029369                     9.968944   \n",
      "2                     6.055926                    10.213995   \n",
      "3                     6.047977                     9.977019   \n",
      "4                     6.148599                    10.142511   \n",
      "\n",
      "   final.output.concentrate_sol  final.output.recovery  final.output.tail_au  \\\n",
      "0                      5.507324              70.541216              2.143149   \n",
      "1                      5.257781              69.266198              2.224930   \n",
      "2                      5.383759              68.116445              2.257889   \n",
      "3                      4.858634              68.347543              2.146849   \n",
      "4                      4.939416              66.927016              2.055292   \n",
      "\n",
      "   final.output.tail_ag  final.output.tail_pb  final.output.tail_sol  \n",
      "0             10.411962              0.895447              16.904297  \n",
      "1             10.462676              0.927452              16.634514  \n",
      "2             10.507046              0.953716              16.208849  \n",
      "3             10.422762              0.883763              16.532835  \n",
      "4             10.360302              0.792826              16.525686  \n",
      "\n",
      "[5 rows x 87 columns]\n",
      "******************************************************\n",
      "shape (14579, 87)\n",
      "******************************************************\n",
      "isna date                       0\n",
      "rougher.input.feed_au      0\n",
      "rougher.input.feed_ag      0\n",
      "rougher.input.feed_pb     72\n",
      "rougher.input.feed_sol    77\n",
      "                          ..\n",
      "final.output.recovery      0\n",
      "final.output.tail_au       0\n",
      "final.output.tail_ag       1\n",
      "final.output.tail_pb      75\n",
      "final.output.tail_sol      5\n",
      "Length: 87, dtype: int64\n",
      "******************************************************\n",
      "duplicated 0\n",
      "******************************************************\n",
      "<class 'pandas.core.frame.DataFrame'>\n",
      "RangeIndex: 14579 entries, 0 to 14578\n",
      "Data columns (total 87 columns):\n",
      " #   Column                                              Non-Null Count  Dtype  \n",
      "---  ------                                              --------------  -----  \n",
      " 0   date                                                14579 non-null  object \n",
      " 1   rougher.input.feed_au                               14579 non-null  float64\n",
      " 2   rougher.input.feed_ag                               14579 non-null  float64\n",
      " 3   rougher.input.feed_pb                               14507 non-null  float64\n",
      " 4   rougher.input.feed_sol                              14502 non-null  float64\n",
      " 5   rougher.input.feed_rate                             14572 non-null  float64\n",
      " 6   rougher.input.feed_size                             14478 non-null  float64\n",
      " 7   rougher.input.floatbank10_sulfate                   14548 non-null  float64\n",
      " 8   rougher.input.floatbank10_xanthate                  14572 non-null  float64\n",
      " 9   rougher.state.floatbank10_a_air                     14579 non-null  float64\n",
      " 10  rougher.state.floatbank10_a_level                   14579 non-null  float64\n",
      " 11  rougher.state.floatbank10_b_air                     14579 non-null  float64\n",
      " 12  rougher.state.floatbank10_b_level                   14579 non-null  float64\n",
      " 13  rougher.state.floatbank10_c_air                     14579 non-null  float64\n",
      " 14  rougher.state.floatbank10_c_level                   14579 non-null  float64\n",
      " 15  rougher.state.floatbank10_d_air                     14579 non-null  float64\n",
      " 16  rougher.state.floatbank10_d_level                   14579 non-null  float64\n",
      " 17  rougher.state.floatbank10_e_air                     14150 non-null  float64\n",
      " 18  rougher.state.floatbank10_e_level                   14579 non-null  float64\n",
      " 19  rougher.state.floatbank10_f_air                     14579 non-null  float64\n",
      " 20  rougher.state.floatbank10_f_level                   14579 non-null  float64\n",
      " 21  rougher.input.floatbank11_sulfate                   14543 non-null  float64\n",
      " 22  rougher.input.floatbank11_xanthate                  14172 non-null  float64\n",
      " 23  rougher.calculation.sulfate_to_au_concentrate       14578 non-null  float64\n",
      " 24  rougher.calculation.floatbank10_sulfate_to_au_feed  14578 non-null  float64\n",
      " 25  rougher.calculation.floatbank11_sulfate_to_au_feed  14578 non-null  float64\n",
      " 26  rougher.calculation.au_pb_ratio                     14579 non-null  float64\n",
      " 27  rougher.output.concentrate_au                       14579 non-null  float64\n",
      " 28  rougher.output.concentrate_ag                       14579 non-null  float64\n",
      " 29  rougher.output.concentrate_pb                       14579 non-null  float64\n",
      " 30  rougher.output.concentrate_sol                      14561 non-null  float64\n",
      " 31  rougher.output.recovery                             14579 non-null  float64\n",
      " 32  rougher.output.tail_au                              14579 non-null  float64\n",
      " 33  rougher.output.tail_ag                              14578 non-null  float64\n",
      " 34  rougher.output.tail_pb                              14579 non-null  float64\n",
      " 35  rougher.output.tail_sol                             14579 non-null  float64\n",
      " 36  primary_cleaner.input.sulfate                       14556 non-null  float64\n",
      " 37  primary_cleaner.input.depressant                    14551 non-null  float64\n",
      " 38  primary_cleaner.input.feed_size                     14579 non-null  float64\n",
      " 39  primary_cleaner.input.xanthate                      14518 non-null  float64\n",
      " 40  primary_cleaner.state.floatbank8_a_air              14576 non-null  float64\n",
      " 41  primary_cleaner.state.floatbank8_a_level            14579 non-null  float64\n",
      " 42  primary_cleaner.state.floatbank8_b_air              14576 non-null  float64\n",
      " 43  primary_cleaner.state.floatbank8_b_level            14579 non-null  float64\n",
      " 44  primary_cleaner.state.floatbank8_c_air              14579 non-null  float64\n",
      " 45  primary_cleaner.state.floatbank8_c_level            14579 non-null  float64\n",
      " 46  primary_cleaner.state.floatbank8_d_air              14578 non-null  float64\n",
      " 47  primary_cleaner.state.floatbank8_d_level            14579 non-null  float64\n",
      " 48  primary_cleaner.output.concentrate_au               14579 non-null  float64\n",
      " 49  primary_cleaner.output.concentrate_ag               14579 non-null  float64\n",
      " 50  primary_cleaner.output.concentrate_pb               14491 non-null  float64\n",
      " 51  primary_cleaner.output.concentrate_sol              14314 non-null  float64\n",
      " 52  primary_cleaner.output.tail_au                      14579 non-null  float64\n",
      " 53  primary_cleaner.output.tail_ag                      14575 non-null  float64\n",
      " 54  primary_cleaner.output.tail_pb                      14573 non-null  float64\n",
      " 55  primary_cleaner.output.tail_sol                     14534 non-null  float64\n",
      " 56  secondary_cleaner.state.floatbank2_a_air            14485 non-null  float64\n",
      " 57  secondary_cleaner.state.floatbank2_a_level          14579 non-null  float64\n",
      " 58  secondary_cleaner.state.floatbank2_b_air            14557 non-null  float64\n",
      " 59  secondary_cleaner.state.floatbank2_b_level          14579 non-null  float64\n",
      " 60  secondary_cleaner.state.floatbank3_a_air            14567 non-null  float64\n",
      " 61  secondary_cleaner.state.floatbank3_a_level          14579 non-null  float64\n",
      " 62  secondary_cleaner.state.floatbank3_b_air            14579 non-null  float64\n",
      " 63  secondary_cleaner.state.floatbank3_b_level          14579 non-null  float64\n",
      " 64  secondary_cleaner.state.floatbank4_a_air            14574 non-null  float64\n",
      " 65  secondary_cleaner.state.floatbank4_a_level          14579 non-null  float64\n",
      " 66  secondary_cleaner.state.floatbank4_b_air            14579 non-null  float64\n",
      " 67  secondary_cleaner.state.floatbank4_b_level          14579 non-null  float64\n",
      " 68  secondary_cleaner.state.floatbank5_a_air            14579 non-null  float64\n",
      " 69  secondary_cleaner.state.floatbank5_a_level          14579 non-null  float64\n",
      " 70  secondary_cleaner.state.floatbank5_b_air            14579 non-null  float64\n",
      " 71  secondary_cleaner.state.floatbank5_b_level          14579 non-null  float64\n",
      " 72  secondary_cleaner.state.floatbank6_a_air            14578 non-null  float64\n",
      " 73  secondary_cleaner.state.floatbank6_a_level          14579 non-null  float64\n",
      " 74  secondary_cleaner.output.tail_au                    14579 non-null  float64\n",
      " 75  secondary_cleaner.output.tail_ag                    14578 non-null  float64\n",
      " 76  secondary_cleaner.output.tail_pb                    14575 non-null  float64\n",
      " 77  secondary_cleaner.output.tail_sol                   13659 non-null  float64\n",
      " 78  final.output.concentrate_au                         14579 non-null  float64\n",
      " 79  final.output.concentrate_ag                         14578 non-null  float64\n",
      " 80  final.output.concentrate_pb                         14578 non-null  float64\n",
      " 81  final.output.concentrate_sol                        14387 non-null  float64\n",
      " 82  final.output.recovery                               14579 non-null  float64\n",
      " 83  final.output.tail_au                                14579 non-null  float64\n",
      " 84  final.output.tail_ag                                14578 non-null  float64\n",
      " 85  final.output.tail_pb                                14504 non-null  float64\n",
      " 86  final.output.tail_sol                               14574 non-null  float64\n",
      "dtypes: float64(86), object(1)\n",
      "memory usage: 9.7+ MB\n",
      "info None\n"
     ]
    }
   ],
   "source": [
    "checking_the_input_data(data_train)"
   ]
  },
  {
   "cell_type": "code",
   "execution_count": 5,
   "metadata": {},
   "outputs": [
    {
     "name": "stdout",
     "output_type": "stream",
     "text": [
      "                  date  rougher.input.feed_au  rougher.input.feed_ag  \\\n",
      "0  2017-12-09 14:59:59               4.365491               6.158718   \n",
      "1  2017-12-09 15:59:59               4.362781               6.048130   \n",
      "2  2017-12-09 16:59:59               5.081681               6.082745   \n",
      "3  2017-12-09 17:59:59               5.145949               6.084374   \n",
      "4  2017-12-09 18:59:59               5.735249               6.165220   \n",
      "\n",
      "   rougher.input.feed_pb  rougher.input.feed_sol  rougher.input.feed_rate  \\\n",
      "0               3.875727               39.135119               555.820208   \n",
      "1               3.902537               39.713906               544.731687   \n",
      "2               4.564078               37.208683               558.155110   \n",
      "3               4.768124               36.808874               539.713765   \n",
      "4               4.512346               37.810642               558.713584   \n",
      "\n",
      "   rougher.input.feed_size  rougher.input.floatbank10_sulfate  \\\n",
      "0                94.544358                           6.146982   \n",
      "1               123.742430                           6.210119   \n",
      "2                82.610855                           7.363824   \n",
      "3                77.984784                           6.927072   \n",
      "4                86.434874                           7.823471   \n",
      "\n",
      "   rougher.input.floatbank10_xanthate  rougher.state.floatbank10_a_air  ...  \\\n",
      "0                            9.308612                      1196.238112  ...   \n",
      "1                            9.297709                      1201.904177  ...   \n",
      "2                            9.003562                      1200.826926  ...   \n",
      "3                            8.955597                      1199.292489  ...   \n",
      "4                            7.490356                      1198.005449  ...   \n",
      "\n",
      "   secondary_cleaner.state.floatbank4_a_air  \\\n",
      "0                                 23.018622   \n",
      "1                                 23.024963   \n",
      "2                                 22.993827   \n",
      "3                                 23.032807   \n",
      "4                                 23.001911   \n",
      "\n",
      "   secondary_cleaner.state.floatbank4_a_level  \\\n",
      "0                                 -500.492702   \n",
      "1                                 -501.153409   \n",
      "2                                 -501.559663   \n",
      "3                                 -501.287889   \n",
      "4                                 -499.947838   \n",
      "\n",
      "   secondary_cleaner.state.floatbank4_b_air  \\\n",
      "0                                 20.020205   \n",
      "1                                 20.054122   \n",
      "2                                 20.029144   \n",
      "3                                 19.977466   \n",
      "4                                 20.023735   \n",
      "\n",
      "   secondary_cleaner.state.floatbank4_b_level  \\\n",
      "0                                 -500.220296   \n",
      "1                                 -500.314711   \n",
      "2                                 -500.000662   \n",
      "3                                 -500.159903   \n",
      "4                                 -499.713680   \n",
      "\n",
      "   secondary_cleaner.state.floatbank5_a_air  \\\n",
      "0                                 17.963512   \n",
      "1                                 17.979515   \n",
      "2                                 18.012723   \n",
      "3                                 17.980463   \n",
      "4                                 17.990955   \n",
      "\n",
      "   secondary_cleaner.state.floatbank5_a_level  \\\n",
      "0                                 -499.939490   \n",
      "1                                 -499.272871   \n",
      "2                                 -500.024764   \n",
      "3                                 -500.504602   \n",
      "4                                 -500.334769   \n",
      "\n",
      "   secondary_cleaner.state.floatbank5_b_air  \\\n",
      "0                                 12.990306   \n",
      "1                                 12.992404   \n",
      "2                                 13.016445   \n",
      "3                                 12.949071   \n",
      "4                                 13.007523   \n",
      "\n",
      "   secondary_cleaner.state.floatbank5_b_level  \\\n",
      "0                                 -500.080993   \n",
      "1                                 -499.976268   \n",
      "2                                 -500.058432   \n",
      "3                                 -500.009937   \n",
      "4                                 -499.968459   \n",
      "\n",
      "   secondary_cleaner.state.floatbank6_a_air  \\\n",
      "0                                 19.990336   \n",
      "1                                 20.013986   \n",
      "2                                 19.973767   \n",
      "3                                 20.010332   \n",
      "4                                 19.995999   \n",
      "\n",
      "   secondary_cleaner.state.floatbank6_a_level  \n",
      "0                                 -499.191575  \n",
      "1                                 -500.625471  \n",
      "2                                 -501.394155  \n",
      "3                                 -508.337973  \n",
      "4                                 -499.788805  \n",
      "\n",
      "[5 rows x 53 columns]\n",
      "******************************************************\n",
      "shape (4860, 53)\n",
      "******************************************************\n",
      "isna date                                            0\n",
      "rougher.input.feed_au                           0\n",
      "rougher.input.feed_ag                           0\n",
      "rougher.input.feed_pb                          28\n",
      "rougher.input.feed_sol                         22\n",
      "rougher.input.feed_rate                         4\n",
      "rougher.input.feed_size                        44\n",
      "rougher.input.floatbank10_sulfate               3\n",
      "rougher.input.floatbank10_xanthate              1\n",
      "rougher.state.floatbank10_a_air                 1\n",
      "rougher.state.floatbank10_a_level               1\n",
      "rougher.state.floatbank10_b_air                 1\n",
      "rougher.state.floatbank10_b_level               1\n",
      "rougher.state.floatbank10_c_air                 1\n",
      "rougher.state.floatbank10_c_level               1\n",
      "rougher.state.floatbank10_d_air                 0\n",
      "rougher.state.floatbank10_d_level               0\n",
      "rougher.state.floatbank10_e_air                 7\n",
      "rougher.state.floatbank10_e_level               0\n",
      "rougher.state.floatbank10_f_air                 0\n",
      "rougher.state.floatbank10_f_level               0\n",
      "rougher.input.floatbank11_sulfate               8\n",
      "rougher.input.floatbank11_xanthate             46\n",
      "primary_cleaner.input.sulfate                   1\n",
      "primary_cleaner.input.depressant                9\n",
      "primary_cleaner.input.feed_size                 0\n",
      "primary_cleaner.input.xanthate                 43\n",
      "primary_cleaner.state.floatbank8_a_air          1\n",
      "primary_cleaner.state.floatbank8_a_level        1\n",
      "primary_cleaner.state.floatbank8_b_air          1\n",
      "primary_cleaner.state.floatbank8_b_level        1\n",
      "primary_cleaner.state.floatbank8_c_air          2\n",
      "primary_cleaner.state.floatbank8_c_level        1\n",
      "primary_cleaner.state.floatbank8_d_air          2\n",
      "primary_cleaner.state.floatbank8_d_level        1\n",
      "secondary_cleaner.state.floatbank2_a_air      126\n",
      "secondary_cleaner.state.floatbank2_a_level      1\n",
      "secondary_cleaner.state.floatbank2_b_air        1\n",
      "secondary_cleaner.state.floatbank2_b_level      1\n",
      "secondary_cleaner.state.floatbank3_a_air        1\n",
      "secondary_cleaner.state.floatbank3_a_level      1\n",
      "secondary_cleaner.state.floatbank3_b_air        1\n",
      "secondary_cleaner.state.floatbank3_b_level      1\n",
      "secondary_cleaner.state.floatbank4_a_air        1\n",
      "secondary_cleaner.state.floatbank4_a_level      1\n",
      "secondary_cleaner.state.floatbank4_b_air        1\n",
      "secondary_cleaner.state.floatbank4_b_level      1\n",
      "secondary_cleaner.state.floatbank5_a_air        1\n",
      "secondary_cleaner.state.floatbank5_a_level      1\n",
      "secondary_cleaner.state.floatbank5_b_air        1\n",
      "secondary_cleaner.state.floatbank5_b_level      1\n",
      "secondary_cleaner.state.floatbank6_a_air        1\n",
      "secondary_cleaner.state.floatbank6_a_level      1\n",
      "dtype: int64\n",
      "******************************************************\n",
      "duplicated 0\n",
      "******************************************************\n",
      "<class 'pandas.core.frame.DataFrame'>\n",
      "RangeIndex: 4860 entries, 0 to 4859\n",
      "Data columns (total 53 columns):\n",
      " #   Column                                      Non-Null Count  Dtype  \n",
      "---  ------                                      --------------  -----  \n",
      " 0   date                                        4860 non-null   object \n",
      " 1   rougher.input.feed_au                       4860 non-null   float64\n",
      " 2   rougher.input.feed_ag                       4860 non-null   float64\n",
      " 3   rougher.input.feed_pb                       4832 non-null   float64\n",
      " 4   rougher.input.feed_sol                      4838 non-null   float64\n",
      " 5   rougher.input.feed_rate                     4856 non-null   float64\n",
      " 6   rougher.input.feed_size                     4816 non-null   float64\n",
      " 7   rougher.input.floatbank10_sulfate           4857 non-null   float64\n",
      " 8   rougher.input.floatbank10_xanthate          4859 non-null   float64\n",
      " 9   rougher.state.floatbank10_a_air             4859 non-null   float64\n",
      " 10  rougher.state.floatbank10_a_level           4859 non-null   float64\n",
      " 11  rougher.state.floatbank10_b_air             4859 non-null   float64\n",
      " 12  rougher.state.floatbank10_b_level           4859 non-null   float64\n",
      " 13  rougher.state.floatbank10_c_air             4859 non-null   float64\n",
      " 14  rougher.state.floatbank10_c_level           4859 non-null   float64\n",
      " 15  rougher.state.floatbank10_d_air             4860 non-null   float64\n",
      " 16  rougher.state.floatbank10_d_level           4860 non-null   float64\n",
      " 17  rougher.state.floatbank10_e_air             4853 non-null   float64\n",
      " 18  rougher.state.floatbank10_e_level           4860 non-null   float64\n",
      " 19  rougher.state.floatbank10_f_air             4860 non-null   float64\n",
      " 20  rougher.state.floatbank10_f_level           4860 non-null   float64\n",
      " 21  rougher.input.floatbank11_sulfate           4852 non-null   float64\n",
      " 22  rougher.input.floatbank11_xanthate          4814 non-null   float64\n",
      " 23  primary_cleaner.input.sulfate               4859 non-null   float64\n",
      " 24  primary_cleaner.input.depressant            4851 non-null   float64\n",
      " 25  primary_cleaner.input.feed_size             4860 non-null   float64\n",
      " 26  primary_cleaner.input.xanthate              4817 non-null   float64\n",
      " 27  primary_cleaner.state.floatbank8_a_air      4859 non-null   float64\n",
      " 28  primary_cleaner.state.floatbank8_a_level    4859 non-null   float64\n",
      " 29  primary_cleaner.state.floatbank8_b_air      4859 non-null   float64\n",
      " 30  primary_cleaner.state.floatbank8_b_level    4859 non-null   float64\n",
      " 31  primary_cleaner.state.floatbank8_c_air      4858 non-null   float64\n",
      " 32  primary_cleaner.state.floatbank8_c_level    4859 non-null   float64\n",
      " 33  primary_cleaner.state.floatbank8_d_air      4858 non-null   float64\n",
      " 34  primary_cleaner.state.floatbank8_d_level    4859 non-null   float64\n",
      " 35  secondary_cleaner.state.floatbank2_a_air    4734 non-null   float64\n",
      " 36  secondary_cleaner.state.floatbank2_a_level  4859 non-null   float64\n",
      " 37  secondary_cleaner.state.floatbank2_b_air    4859 non-null   float64\n",
      " 38  secondary_cleaner.state.floatbank2_b_level  4859 non-null   float64\n",
      " 39  secondary_cleaner.state.floatbank3_a_air    4859 non-null   float64\n",
      " 40  secondary_cleaner.state.floatbank3_a_level  4859 non-null   float64\n",
      " 41  secondary_cleaner.state.floatbank3_b_air    4859 non-null   float64\n",
      " 42  secondary_cleaner.state.floatbank3_b_level  4859 non-null   float64\n",
      " 43  secondary_cleaner.state.floatbank4_a_air    4859 non-null   float64\n",
      " 44  secondary_cleaner.state.floatbank4_a_level  4859 non-null   float64\n",
      " 45  secondary_cleaner.state.floatbank4_b_air    4859 non-null   float64\n",
      " 46  secondary_cleaner.state.floatbank4_b_level  4859 non-null   float64\n",
      " 47  secondary_cleaner.state.floatbank5_a_air    4859 non-null   float64\n",
      " 48  secondary_cleaner.state.floatbank5_a_level  4859 non-null   float64\n",
      " 49  secondary_cleaner.state.floatbank5_b_air    4859 non-null   float64\n",
      " 50  secondary_cleaner.state.floatbank5_b_level  4859 non-null   float64\n",
      " 51  secondary_cleaner.state.floatbank6_a_air    4859 non-null   float64\n",
      " 52  secondary_cleaner.state.floatbank6_a_level  4859 non-null   float64\n",
      "dtypes: float64(52), object(1)\n",
      "memory usage: 2.0+ MB\n",
      "info None\n"
     ]
    }
   ],
   "source": [
    "checking_the_input_data(data_test)"
   ]
  },
  {
   "cell_type": "code",
   "execution_count": 6,
   "metadata": {},
   "outputs": [
    {
     "name": "stdout",
     "output_type": "stream",
     "text": [
      "                  date  rougher.input.feed_au  rougher.input.feed_ag  \\\n",
      "0  2016-01-15 00:00:00               6.486150               6.100378   \n",
      "1  2016-01-15 01:00:00               6.478583               6.161113   \n",
      "2  2016-01-15 02:00:00               6.362222               6.116455   \n",
      "3  2016-01-15 03:00:00               6.118189               6.043309   \n",
      "4  2016-01-15 04:00:00               5.663707               6.060915   \n",
      "\n",
      "   rougher.input.feed_pb  rougher.input.feed_sol  rougher.input.feed_rate  \\\n",
      "0               2.284912               36.808594               523.546326   \n",
      "1               2.266033               35.753385               525.290581   \n",
      "2               2.159622               35.971630               530.026610   \n",
      "3               2.037807               36.862241               542.590390   \n",
      "4               1.786875               34.347666               540.531893   \n",
      "\n",
      "   rougher.input.feed_size  rougher.input.floatbank10_sulfate  \\\n",
      "0                55.486599                          11.986616   \n",
      "1                57.278666                          11.971193   \n",
      "2                57.510649                          11.920603   \n",
      "3                57.792734                          11.630094   \n",
      "4                56.047189                          10.957755   \n",
      "\n",
      "   rougher.input.floatbank10_xanthate  rougher.state.floatbank10_a_air  ...  \\\n",
      "0                            6.007990                       999.706909  ...   \n",
      "1                            6.005766                      1000.286398  ...   \n",
      "2                            6.197377                       999.719565  ...   \n",
      "3                            6.203177                       999.814770  ...   \n",
      "4                            6.198826                       999.678690  ...   \n",
      "\n",
      "   secondary_cleaner.output.tail_sol  final.output.concentrate_au  \\\n",
      "0                           8.764648                    42.192020   \n",
      "1                           9.001494                    42.701629   \n",
      "2                           8.842896                    42.657501   \n",
      "3                           9.122857                    42.689819   \n",
      "4                           8.871028                    42.774141   \n",
      "\n",
      "   final.output.concentrate_ag  final.output.concentrate_pb  \\\n",
      "0                     6.055403                     9.889648   \n",
      "1                     6.029369                     9.968944   \n",
      "2                     6.055926                    10.213995   \n",
      "3                     6.047977                     9.977019   \n",
      "4                     6.148599                    10.142511   \n",
      "\n",
      "   final.output.concentrate_sol  final.output.recovery  final.output.tail_au  \\\n",
      "0                      5.507324              70.541216              2.143149   \n",
      "1                      5.257781              69.266198              2.224930   \n",
      "2                      5.383759              68.116445              2.257889   \n",
      "3                      4.858634              68.347543              2.146849   \n",
      "4                      4.939416              66.927016              2.055292   \n",
      "\n",
      "   final.output.tail_ag  final.output.tail_pb  final.output.tail_sol  \n",
      "0             10.411962              0.895447              16.904297  \n",
      "1             10.462676              0.927452              16.634514  \n",
      "2             10.507046              0.953716              16.208849  \n",
      "3             10.422762              0.883763              16.532835  \n",
      "4             10.360302              0.792826              16.525686  \n",
      "\n",
      "[5 rows x 87 columns]\n",
      "******************************************************\n",
      "shape (19439, 87)\n",
      "******************************************************\n",
      "isna date                        0\n",
      "rougher.input.feed_au       0\n",
      "rougher.input.feed_ag       0\n",
      "rougher.input.feed_pb     100\n",
      "rougher.input.feed_sol     99\n",
      "                         ... \n",
      "final.output.recovery       0\n",
      "final.output.tail_au        0\n",
      "final.output.tail_ag        1\n",
      "final.output.tail_pb      101\n",
      "final.output.tail_sol       6\n",
      "Length: 87, dtype: int64\n",
      "******************************************************\n",
      "duplicated 0\n",
      "******************************************************\n",
      "<class 'pandas.core.frame.DataFrame'>\n",
      "RangeIndex: 19439 entries, 0 to 19438\n",
      "Data columns (total 87 columns):\n",
      " #   Column                                              Non-Null Count  Dtype  \n",
      "---  ------                                              --------------  -----  \n",
      " 0   date                                                19439 non-null  object \n",
      " 1   rougher.input.feed_au                               19439 non-null  float64\n",
      " 2   rougher.input.feed_ag                               19439 non-null  float64\n",
      " 3   rougher.input.feed_pb                               19339 non-null  float64\n",
      " 4   rougher.input.feed_sol                              19340 non-null  float64\n",
      " 5   rougher.input.feed_rate                             19428 non-null  float64\n",
      " 6   rougher.input.feed_size                             19294 non-null  float64\n",
      " 7   rougher.input.floatbank10_sulfate                   19405 non-null  float64\n",
      " 8   rougher.input.floatbank10_xanthate                  19431 non-null  float64\n",
      " 9   rougher.state.floatbank10_a_air                     19438 non-null  float64\n",
      " 10  rougher.state.floatbank10_a_level                   19438 non-null  float64\n",
      " 11  rougher.state.floatbank10_b_air                     19438 non-null  float64\n",
      " 12  rougher.state.floatbank10_b_level                   19438 non-null  float64\n",
      " 13  rougher.state.floatbank10_c_air                     19438 non-null  float64\n",
      " 14  rougher.state.floatbank10_c_level                   19438 non-null  float64\n",
      " 15  rougher.state.floatbank10_d_air                     19439 non-null  float64\n",
      " 16  rougher.state.floatbank10_d_level                   19439 non-null  float64\n",
      " 17  rougher.state.floatbank10_e_air                     19003 non-null  float64\n",
      " 18  rougher.state.floatbank10_e_level                   19439 non-null  float64\n",
      " 19  rougher.state.floatbank10_f_air                     19439 non-null  float64\n",
      " 20  rougher.state.floatbank10_f_level                   19439 non-null  float64\n",
      " 21  rougher.input.floatbank11_sulfate                   19395 non-null  float64\n",
      " 22  rougher.input.floatbank11_xanthate                  18986 non-null  float64\n",
      " 23  rougher.calculation.sulfate_to_au_concentrate       19437 non-null  float64\n",
      " 24  rougher.calculation.floatbank10_sulfate_to_au_feed  19437 non-null  float64\n",
      " 25  rougher.calculation.floatbank11_sulfate_to_au_feed  19437 non-null  float64\n",
      " 26  rougher.calculation.au_pb_ratio                     19439 non-null  float64\n",
      " 27  rougher.output.concentrate_au                       19439 non-null  float64\n",
      " 28  rougher.output.concentrate_ag                       19439 non-null  float64\n",
      " 29  rougher.output.concentrate_pb                       19439 non-null  float64\n",
      " 30  rougher.output.concentrate_sol                      19416 non-null  float64\n",
      " 31  rougher.output.recovery                             19439 non-null  float64\n",
      " 32  rougher.output.tail_au                              19439 non-null  float64\n",
      " 33  rougher.output.tail_ag                              19438 non-null  float64\n",
      " 34  rougher.output.tail_pb                              19439 non-null  float64\n",
      " 35  rougher.output.tail_sol                             19439 non-null  float64\n",
      " 36  primary_cleaner.input.sulfate                       19415 non-null  float64\n",
      " 37  primary_cleaner.input.depressant                    19402 non-null  float64\n",
      " 38  primary_cleaner.input.feed_size                     19439 non-null  float64\n",
      " 39  primary_cleaner.input.xanthate                      19335 non-null  float64\n",
      " 40  primary_cleaner.state.floatbank8_a_air              19435 non-null  float64\n",
      " 41  primary_cleaner.state.floatbank8_a_level            19438 non-null  float64\n",
      " 42  primary_cleaner.state.floatbank8_b_air              19435 non-null  float64\n",
      " 43  primary_cleaner.state.floatbank8_b_level            19438 non-null  float64\n",
      " 44  primary_cleaner.state.floatbank8_c_air              19437 non-null  float64\n",
      " 45  primary_cleaner.state.floatbank8_c_level            19438 non-null  float64\n",
      " 46  primary_cleaner.state.floatbank8_d_air              19436 non-null  float64\n",
      " 47  primary_cleaner.state.floatbank8_d_level            19438 non-null  float64\n",
      " 48  primary_cleaner.output.concentrate_au               19439 non-null  float64\n",
      " 49  primary_cleaner.output.concentrate_ag               19439 non-null  float64\n",
      " 50  primary_cleaner.output.concentrate_pb               19323 non-null  float64\n",
      " 51  primary_cleaner.output.concentrate_sol              19069 non-null  float64\n",
      " 52  primary_cleaner.output.tail_au                      19439 non-null  float64\n",
      " 53  primary_cleaner.output.tail_ag                      19435 non-null  float64\n",
      " 54  primary_cleaner.output.tail_pb                      19418 non-null  float64\n",
      " 55  primary_cleaner.output.tail_sol                     19377 non-null  float64\n",
      " 56  secondary_cleaner.state.floatbank2_a_air            19219 non-null  float64\n",
      " 57  secondary_cleaner.state.floatbank2_a_level          19438 non-null  float64\n",
      " 58  secondary_cleaner.state.floatbank2_b_air            19416 non-null  float64\n",
      " 59  secondary_cleaner.state.floatbank2_b_level          19438 non-null  float64\n",
      " 60  secondary_cleaner.state.floatbank3_a_air            19426 non-null  float64\n",
      " 61  secondary_cleaner.state.floatbank3_a_level          19438 non-null  float64\n",
      " 62  secondary_cleaner.state.floatbank3_b_air            19438 non-null  float64\n",
      " 63  secondary_cleaner.state.floatbank3_b_level          19438 non-null  float64\n",
      " 64  secondary_cleaner.state.floatbank4_a_air            19433 non-null  float64\n",
      " 65  secondary_cleaner.state.floatbank4_a_level          19438 non-null  float64\n",
      " 66  secondary_cleaner.state.floatbank4_b_air            19438 non-null  float64\n",
      " 67  secondary_cleaner.state.floatbank4_b_level          19438 non-null  float64\n",
      " 68  secondary_cleaner.state.floatbank5_a_air            19438 non-null  float64\n",
      " 69  secondary_cleaner.state.floatbank5_a_level          19438 non-null  float64\n",
      " 70  secondary_cleaner.state.floatbank5_b_air            19438 non-null  float64\n",
      " 71  secondary_cleaner.state.floatbank5_b_level          19438 non-null  float64\n",
      " 72  secondary_cleaner.state.floatbank6_a_air            19437 non-null  float64\n",
      " 73  secondary_cleaner.state.floatbank6_a_level          19438 non-null  float64\n",
      " 74  secondary_cleaner.output.tail_au                    19439 non-null  float64\n",
      " 75  secondary_cleaner.output.tail_ag                    19437 non-null  float64\n",
      " 76  secondary_cleaner.output.tail_pb                    19427 non-null  float64\n",
      " 77  secondary_cleaner.output.tail_sol                   17691 non-null  float64\n",
      " 78  final.output.concentrate_au                         19439 non-null  float64\n",
      " 79  final.output.concentrate_ag                         19438 non-null  float64\n",
      " 80  final.output.concentrate_pb                         19438 non-null  float64\n",
      " 81  final.output.concentrate_sol                        19228 non-null  float64\n",
      " 82  final.output.recovery                               19439 non-null  float64\n",
      " 83  final.output.tail_au                                19439 non-null  float64\n",
      " 84  final.output.tail_ag                                19438 non-null  float64\n",
      " 85  final.output.tail_pb                                19338 non-null  float64\n",
      " 86  final.output.tail_sol                               19433 non-null  float64\n",
      "dtypes: float64(86), object(1)\n",
      "memory usage: 12.9+ MB\n",
      "info None\n"
     ]
    }
   ],
   "source": [
    "checking_the_input_data(data_full)"
   ]
  },
  {
   "cell_type": "markdown",
   "metadata": {},
   "source": [
    "Итак, во всех трех датасетах есть пропуски, отсутствуют дубликаты. Столбец 'date' содержит тип данных 'object', нужно заменить его на тип 'datetime'"
   ]
  },
  {
   "cell_type": "markdown",
   "metadata": {},
   "source": [
    "### Заменим тип данных 'object' в столбце 'date' на тип 'datetime'"
   ]
  },
  {
   "cell_type": "code",
   "execution_count": 7,
   "metadata": {},
   "outputs": [],
   "source": [
    "def to_date (data):\n",
    "    data['date'] = pd.to_datetime(data['date'], format='%Y-%m-%d %H:%M:%S')\n",
    "    print(data['date'].dtypes)"
   ]
  },
  {
   "cell_type": "code",
   "execution_count": 8,
   "metadata": {},
   "outputs": [
    {
     "name": "stdout",
     "output_type": "stream",
     "text": [
      "datetime64[ns]\n",
      "datetime64[ns]\n",
      "datetime64[ns]\n"
     ]
    }
   ],
   "source": [
    "to_date(data_train)\n",
    "to_date(data_test)\n",
    "to_date(data_full)"
   ]
  },
  {
   "cell_type": "markdown",
   "metadata": {},
   "source": [
    "### Заполнение пропусков"
   ]
  },
  {
   "cell_type": "markdown",
   "metadata": {},
   "source": [
    "Поскольку в условии сказано, что данные индексируются датой и временем получения информации (признак date), при этом соседние по времени параметры часто похожи, то используем эту особенность для заполнения пропусков. Воспользуемся методом .ffill(), который позволяет нам заполнить значение NaN данными из предыдущего столбца или строки."
   ]
  },
  {
   "cell_type": "code",
   "execution_count": 9,
   "metadata": {},
   "outputs": [
    {
     "name": "stdout",
     "output_type": "stream",
     "text": [
      "train 0\n",
      "test 0\n",
      "full 0\n"
     ]
    }
   ],
   "source": [
    "data_train = data_train.ffill(axis=0)\n",
    "print(\"train\", data_train.isna().sum().sum())\n",
    "data_test = data_test.ffill(axis=0)\n",
    "print(\"test\", data_test.isna().sum().sum())\n",
    "data_full = data_full.ffill(axis=0)\n",
    "print(\"full\", data_full.isna().sum().sum())"
   ]
  },
  {
   "cell_type": "markdown",
   "metadata": {},
   "source": [
    "### Вычисление эффективности обогащения"
   ]
  },
  {
   "cell_type": "markdown",
   "metadata": {},
   "source": [
    "   \n",
    "   Проверим, что эффективность обогащения рассчитна правильно. Вычислим её на обучающей выборке для признака rougher.output.recovery, что означает эффективность обогащения чернового концентрата.   Используем формулу:  RECOVERY = C(F-T)/(F(C-T))*100%    \n",
    "С - доля золота концентрате после фильтрации/очитски(rougher.output.concentrate_au)   \n",
    "F - доля золота в сырье/концентрате до флотации/очистки(rougher.input.feed_au)   \n",
    "T - доля золота в отвальных хвостах после фильтрации/очистки(rougher.output.tail_au)    "
   ]
  },
  {
   "cell_type": "code",
   "execution_count": 10,
   "metadata": {},
   "outputs": [
    {
     "data": {
      "text/plain": [
       "0        87.107763\n",
       "1        86.843261\n",
       "2        86.842308\n",
       "3        87.226430\n",
       "4        86.688794\n",
       "           ...    \n",
       "14574    87.684717\n",
       "14575    90.677361\n",
       "14576    89.574376\n",
       "14577    87.724007\n",
       "14578    88.890579\n",
       "Length: 14579, dtype: float64"
      ]
     },
     "execution_count": 10,
     "metadata": {},
     "output_type": "execute_result"
    }
   ],
   "source": [
    "c = data_train['rougher.output.concentrate_au']\n",
    "f = data_train['rougher.input.feed_au']\n",
    "t = data_train['rougher.output.tail_au']\n",
    "my_recovery = c*(f-t)/(f*(c-t))*100\n",
    "my_recovery"
   ]
  },
  {
   "cell_type": "markdown",
   "metadata": {},
   "source": [
    "### Вычисление МАЕ"
   ]
  },
  {
   "cell_type": "markdown",
   "metadata": {},
   "source": [
    "Найдём MAE между нашими расчётами и значением признака, чтобы понять насколько они различаются. Для этого воспользуемся функцией mean_absolute_error из библиотеки sklearn"
   ]
  },
  {
   "cell_type": "code",
   "execution_count": 11,
   "metadata": {},
   "outputs": [
    {
     "name": "stdout",
     "output_type": "stream",
     "text": [
      "Значение средней абсолютной ошибки: 9.83758577644259e-15\n"
     ]
    }
   ],
   "source": [
    "m_a_e = mae(data_train['rougher.output.recovery'], my_recovery)\n",
    "print(\"Значение средней абсолютной ошибки:\", m_a_e)"
   ]
  },
  {
   "cell_type": "markdown",
   "metadata": {},
   "source": [
    "Как мы видим, значение МАЕ небольшое, а, значит, эффективность обогащения рассчитана правильно."
   ]
  },
  {
   "cell_type": "markdown",
   "metadata": {},
   "source": [
    "### Необходимо проанализировать признаки, недоступные в тестовой выборке."
   ]
  },
  {
   "cell_type": "code",
   "execution_count": 12,
   "metadata": {},
   "outputs": [
    {
     "data": {
      "text/plain": [
       "{'final.output.concentrate_ag',\n",
       " 'final.output.concentrate_au',\n",
       " 'final.output.concentrate_pb',\n",
       " 'final.output.concentrate_sol',\n",
       " 'final.output.recovery',\n",
       " 'final.output.tail_ag',\n",
       " 'final.output.tail_au',\n",
       " 'final.output.tail_pb',\n",
       " 'final.output.tail_sol',\n",
       " 'primary_cleaner.output.concentrate_ag',\n",
       " 'primary_cleaner.output.concentrate_au',\n",
       " 'primary_cleaner.output.concentrate_pb',\n",
       " 'primary_cleaner.output.concentrate_sol',\n",
       " 'primary_cleaner.output.tail_ag',\n",
       " 'primary_cleaner.output.tail_au',\n",
       " 'primary_cleaner.output.tail_pb',\n",
       " 'primary_cleaner.output.tail_sol',\n",
       " 'rougher.calculation.au_pb_ratio',\n",
       " 'rougher.calculation.floatbank10_sulfate_to_au_feed',\n",
       " 'rougher.calculation.floatbank11_sulfate_to_au_feed',\n",
       " 'rougher.calculation.sulfate_to_au_concentrate',\n",
       " 'rougher.output.concentrate_ag',\n",
       " 'rougher.output.concentrate_au',\n",
       " 'rougher.output.concentrate_pb',\n",
       " 'rougher.output.concentrate_sol',\n",
       " 'rougher.output.recovery',\n",
       " 'rougher.output.tail_ag',\n",
       " 'rougher.output.tail_au',\n",
       " 'rougher.output.tail_pb',\n",
       " 'rougher.output.tail_sol',\n",
       " 'secondary_cleaner.output.tail_ag',\n",
       " 'secondary_cleaner.output.tail_au',\n",
       " 'secondary_cleaner.output.tail_pb',\n",
       " 'secondary_cleaner.output.tail_sol'}"
      ]
     },
     "execution_count": 12,
     "metadata": {},
     "output_type": "execute_result"
    }
   ],
   "source": [
    "unavailable_for_test = set(data_train.columns) - set(data_test.columns)\n",
    "unavailable_for_test"
   ]
  },
  {
   "cell_type": "markdown",
   "metadata": {},
   "source": [
    "### Добавляем целевые признаки в тестовую выборку"
   ]
  },
  {
   "cell_type": "markdown",
   "metadata": {},
   "source": [
    " Можно заметить, что значения \"rougher.output.recovery\" и \"final.putput.recovery\" отсутствуют в тестовой выборке. Поскольку это целевые признаки, то необходимо добавить таргеты из датасета full в тестовую выборку. Для этого можно воспользоваться методом .merge(). Поскольку данные индексируются временем и датой, то индексируем через cтолбец 'date'."
   ]
  },
  {
   "cell_type": "code",
   "execution_count": 13,
   "metadata": {},
   "outputs": [
    {
     "data": {
      "text/plain": [
       "Index(['date', 'rougher.input.feed_au', 'rougher.input.feed_ag',\n",
       "       'rougher.input.feed_pb', 'rougher.input.feed_sol',\n",
       "       'rougher.input.feed_rate', 'rougher.input.feed_size',\n",
       "       'rougher.input.floatbank10_sulfate',\n",
       "       'rougher.input.floatbank10_xanthate', 'rougher.state.floatbank10_a_air',\n",
       "       'rougher.state.floatbank10_a_level', 'rougher.state.floatbank10_b_air',\n",
       "       'rougher.state.floatbank10_b_level', 'rougher.state.floatbank10_c_air',\n",
       "       'rougher.state.floatbank10_c_level', 'rougher.state.floatbank10_d_air',\n",
       "       'rougher.state.floatbank10_d_level', 'rougher.state.floatbank10_e_air',\n",
       "       'rougher.state.floatbank10_e_level', 'rougher.state.floatbank10_f_air',\n",
       "       'rougher.state.floatbank10_f_level',\n",
       "       'rougher.input.floatbank11_sulfate',\n",
       "       'rougher.input.floatbank11_xanthate', 'primary_cleaner.input.sulfate',\n",
       "       'primary_cleaner.input.depressant', 'primary_cleaner.input.feed_size',\n",
       "       'primary_cleaner.input.xanthate',\n",
       "       'primary_cleaner.state.floatbank8_a_air',\n",
       "       'primary_cleaner.state.floatbank8_a_level',\n",
       "       'primary_cleaner.state.floatbank8_b_air',\n",
       "       'primary_cleaner.state.floatbank8_b_level',\n",
       "       'primary_cleaner.state.floatbank8_c_air',\n",
       "       'primary_cleaner.state.floatbank8_c_level',\n",
       "       'primary_cleaner.state.floatbank8_d_air',\n",
       "       'primary_cleaner.state.floatbank8_d_level',\n",
       "       'secondary_cleaner.state.floatbank2_a_air',\n",
       "       'secondary_cleaner.state.floatbank2_a_level',\n",
       "       'secondary_cleaner.state.floatbank2_b_air',\n",
       "       'secondary_cleaner.state.floatbank2_b_level',\n",
       "       'secondary_cleaner.state.floatbank3_a_air',\n",
       "       'secondary_cleaner.state.floatbank3_a_level',\n",
       "       'secondary_cleaner.state.floatbank3_b_air',\n",
       "       'secondary_cleaner.state.floatbank3_b_level',\n",
       "       'secondary_cleaner.state.floatbank4_a_air',\n",
       "       'secondary_cleaner.state.floatbank4_a_level',\n",
       "       'secondary_cleaner.state.floatbank4_b_air',\n",
       "       'secondary_cleaner.state.floatbank4_b_level',\n",
       "       'secondary_cleaner.state.floatbank5_a_air',\n",
       "       'secondary_cleaner.state.floatbank5_a_level',\n",
       "       'secondary_cleaner.state.floatbank5_b_air',\n",
       "       'secondary_cleaner.state.floatbank5_b_level',\n",
       "       'secondary_cleaner.state.floatbank6_a_air',\n",
       "       'secondary_cleaner.state.floatbank6_a_level', 'rougher.output.recovery',\n",
       "       'final.output.recovery'],\n",
       "      dtype='object')"
      ]
     },
     "execution_count": 13,
     "metadata": {},
     "output_type": "execute_result"
    }
   ],
   "source": [
    "data_test = data_test.merge(data_full.loc[:, ['date', 'rougher.output.recovery', 'final.output.recovery']], on = 'date')\n",
    "data_test.columns"
   ]
  },
  {
   "cell_type": "markdown",
   "metadata": {},
   "source": [
    "Итак, мы добавили целевые признаки в тестовую выборку. Остальные же признаки, которые отсутсвуют в тестовой выборке относительно обучающей недоступны, поскольку замеряются или расчитываются значительно позже, что указано в задании. Теперь в столбце 'date' необходимости нет, поэтому его лучше убрать из выборки перед дальнейшей работой"
   ]
  },
  {
   "cell_type": "markdown",
   "metadata": {},
   "source": [
    "### Удаление колонки  'date' из тренировочной и тестовой выборки"
   ]
  },
  {
   "cell_type": "code",
   "execution_count": 14,
   "metadata": {},
   "outputs": [],
   "source": [
    "data_train = data_train.drop('date', axis=1)\n",
    "data_test = data_test.drop('date', axis=1)"
   ]
  },
  {
   "cell_type": "markdown",
   "metadata": {},
   "source": [
    "### Вывод:  \n",
    "        Были изучены сырые данные из хранилища. Дубликатов обнаружено не было. В тренировочной и тестовой выборке были заполнены пропуски. Была вычислена эффективность обогащения по предложенной в задании формуле, затем вычислена МАЕ, которая оказалась равной 9.8e-15, что доказывает правильность расчёта эффективности. Были проанализированы признаки, недоступные в тестовой выборке. Эти признаки замеряются или расчитываются значительно позже, что указано в задании. Кроме прочих, в тестовой выборке не доставало целевых признаков. Они были добавлены в выборку путём индексирования через столбец 'date'. Колонка 'date' была удалена перед дальнейшей работой из тестовой и тренировочной выборок за ненадобностью.\n"
   ]
  },
  {
   "cell_type": "markdown",
   "metadata": {},
   "source": [
    "## Анализ данных"
   ]
  },
  {
   "cell_type": "markdown",
   "metadata": {},
   "source": [
    "### Концентрация металлов (Au, Ag, Pb) на различных этапах очистки"
   ]
  },
  {
   "cell_type": "code",
   "execution_count": 15,
   "metadata": {},
   "outputs": [],
   "source": [
    "def plot_for_dif_metal(metal):\n",
    "    plt.figure(figsize=[15,10])\n",
    "    plt.title(\"концентрация металла на различных этапах очистки\", fontsize = 20)\n",
    "    sns.histplot(data_train[f'rougher.input.feed_{metal}'], color='black', label='rougher_input')\n",
    "    sns.histplot(data_train[f'rougher.output.concentrate_{metal}'], color='grey', label='rougher_output')\n",
    "    sns.histplot(data_train[f'primary_cleaner.output.concentrate_{metal}'], color='yellow', label='primary_cleaner')\n",
    "    sns.histplot(data_train[f'final.output.concentrate_{metal}'], color='orange', label='final_output')\n",
    "    plt.xlabel('Концентрация')\n",
    "    plt.ylabel('Количество данных')\n",
    "    plt.legend()\n",
    "    plt.show();"
   ]
  },
  {
   "cell_type": "code",
   "execution_count": 16,
   "metadata": {},
   "outputs": [
    {
     "name": "stdout",
     "output_type": "stream",
     "text": [
      "ЗОЛОТО\n"
     ]
    },
    {
     "data": {
      "image/png": "[encoded data removed]",
      "text/plain": [
       "<Figure size 1080x720 with 1 Axes>"
      ]
     },
     "metadata": {
      "needs_background": "light"
     },
     "output_type": "display_data"
    }
   ],
   "source": [
    "print('ЗОЛОТО')\n",
    "plot_for_dif_metal('au')\n"
   ]
  },
  {
   "cell_type": "code",
   "execution_count": 17,
   "metadata": {},
   "outputs": [
    {
     "name": "stdout",
     "output_type": "stream",
     "text": [
      "СЕРЕБРО\n"
     ]
    },
    {
     "data": {
      "image/png": "[encoded data removed]",
      "text/plain": [
       "<Figure size 1080x720 with 1 Axes>"
      ]
     },
     "metadata": {
      "needs_background": "light"
     },
     "output_type": "display_data"
    }
   ],
   "source": [
    "print(\"СЕРЕБРО\")\n",
    "plot_for_dif_metal('ag')"
   ]
  },
  {
   "cell_type": "code",
   "execution_count": 18,
   "metadata": {},
   "outputs": [
    {
     "name": "stdout",
     "output_type": "stream",
     "text": [
      "СВИНЕЦ\n"
     ]
    },
    {
     "data": {
      "image/png": "[encoded data removed]",
      "text/plain": [
       "<Figure size 1080x720 with 1 Axes>"
      ]
     },
     "metadata": {
      "needs_background": "light"
     },
     "output_type": "display_data"
    }
   ],
   "source": [
    "print(\"СВИНЕЦ\")\n",
    "plot_for_dif_metal('pb')\n"
   ]
  },
  {
   "cell_type": "markdown",
   "metadata": {},
   "source": [
    "Из графиков видно, что концентрация золота после каждой стадии очистки равномерно увеличивается. Серебро после первого этапа очистки достигает максимальной концентрации, после доля металла равномерно уменьшается. Свинец после двух первых этапов очистки увеличивает концентрацию, на финальной - немного уменьшает"
   ]
  },
  {
   "cell_type": "markdown",
   "metadata": {},
   "source": [
    "### Сравним распределение гранул исходного сырья на обучающей и тестовой выборках."
   ]
  },
  {
   "cell_type": "markdown",
   "metadata": {},
   "source": [
    "Если распределения будут сильно отличаться друг от друга, то оценка модели будет неправильной."
   ]
  },
  {
   "cell_type": "code",
   "execution_count": 19,
   "metadata": {},
   "outputs": [],
   "source": [
    "def plot_for_grain(cleaning_stage):\n",
    "    plt.figure(figsize=[15,10])\n",
    "    plt.title('Распределение гранул исходного сырья на обучающей и тестовой выборках', fontsize=20)\n",
    "    plt.hist(data_train[cleaning_stage], color='green', label=\"train\", bins = 70, density=True)\n",
    "    plt.hist(data_test[cleaning_stage], color='red', label='test', bins = 70, density=True)\n",
    "    plt.xlabel('Размер гранул')\n",
    "    plt.ylabel(\"Количество данных\")\n",
    "    plt.legend()\n",
    "    plt.show()"
   ]
  },
  {
   "cell_type": "code",
   "execution_count": 20,
   "metadata": {},
   "outputs": [
    {
     "name": "stdout",
     "output_type": "stream",
     "text": [
      "rougher.input.feed_size\n"
     ]
    },
    {
     "data": {
      "image/png": "[encoded data removed]",
      "text/plain": [
       "<Figure size 1080x720 with 1 Axes>"
      ]
     },
     "metadata": {
      "needs_background": "light"
     },
     "output_type": "display_data"
    }
   ],
   "source": [
    "print(\"rougher.input.feed_size\")\n",
    "plot_for_grain('rougher.input.feed_size')"
   ]
  },
  {
   "cell_type": "code",
   "execution_count": 21,
   "metadata": {},
   "outputs": [
    {
     "name": "stdout",
     "output_type": "stream",
     "text": [
      "primary_cleaner.input.feed_size\n"
     ]
    },
    {
     "data": {
      "image/png": "[encoded data removed]",
      "text/plain": [
       "<Figure size 1080x720 with 1 Axes>"
      ]
     },
     "metadata": {
      "needs_background": "light"
     },
     "output_type": "display_data"
    }
   ],
   "source": [
    "print('primary_cleaner.input.feed_size')\n",
    "plot_for_grain('primary_cleaner.input.feed_size')"
   ]
  },
  {
   "cell_type": "markdown",
   "metadata": {},
   "source": [
    "Итак, для стадии обработки primary_cleaner мы наблюдаем разницу в количестве данных на тестовой и обучающей выборке. Что касается размера гранул, то на тестовой выборке максимум приходится на 50, а на тренировочной он несколько выше.       \n",
    "Для стадии обработки rougher есть небольшое различие в количестве данных. Касаемо размера зерна, то на тестовой выборке пик размера зерна находится немного левее (около 7) относительно тренировочной (около 8).     \n",
    "По совокупности распределения можно считать не сильно отличающимися друг от друга, а значит, мы смело можем строить модель машинного обучения."
   ]
  },
  {
   "cell_type": "markdown",
   "metadata": {},
   "source": [
    "### Исследуем суммарную концентрацию металлов в концентратах на разных стадиях очистки."
   ]
  },
  {
   "cell_type": "markdown",
   "metadata": {},
   "source": [
    "Напишем функцию, которая считает суммарную концентрацию металлов на заданной стадии"
   ]
  },
  {
   "cell_type": "code",
   "execution_count": 22,
   "metadata": {},
   "outputs": [],
   "source": [
    "def sum_dif_stage(stage):\n",
    "    print(\"sum for\", stage, 'stage')\n",
    "    sum_concentrat = data_train[f'{stage}_au'] + data_train[f'{stage}_ag'] + data_train[f'{stage}_pb']\n",
    "    return sum_concentrat"
   ]
  },
  {
   "cell_type": "markdown",
   "metadata": {},
   "source": [
    "Построим график распределения концентрации металлов на разных стадиях"
   ]
  },
  {
   "cell_type": "code",
   "execution_count": 23,
   "metadata": {},
   "outputs": [
    {
     "name": "stdout",
     "output_type": "stream",
     "text": [
      "sum for rougher.input.feed stage\n",
      "sum for rougher.output.concentrate stage\n",
      "sum for primary_cleaner.output.concentrate stage\n",
      "sum for final.output.concentrate stage\n"
     ]
    },
    {
     "data": {
      "image/png": "[encoded data removed]",
      "text/plain": [
       "<Figure size 1080x720 with 1 Axes>"
      ]
     },
     "metadata": {
      "needs_background": "light"
     },
     "output_type": "display_data"
    }
   ],
   "source": [
    "plt.figure(figsize=[15,10])\n",
    "plt.title('Концентрация металлов на разных стадиях', fontsize=20)\n",
    "sns.histplot(sum_dif_stage('rougher.input.feed'), color='black', label='rougher_input')\n",
    "sns.histplot(sum_dif_stage('rougher.output.concentrate'), color='grey', label='rougher.output.concentrate')\n",
    "sns.histplot(sum_dif_stage('primary_cleaner.output.concentrate'), color='yellow', label='primary_cleaner.output.concentrate')\n",
    "sns.histplot(sum_dif_stage('final.output.concentrate'), color='orange', label='final.output.concentrate')\n",
    "plt.xlabel('Концентрация')\n",
    "plt.ylabel('Количество данных')\n",
    "plt.legend()\n",
    "plt.show();"
   ]
  },
  {
   "cell_type": "markdown",
   "metadata": {},
   "source": [
    "Как видим, суммарная концентрация металлов увеличивается, а разброс концентрации сужается с каждой степенью очистки.\n",
    "В начале графика видны выбросы, которые могут повлиять на обучение моделей, поэтому от выбросов надо избавляться."
   ]
  },
  {
   "cell_type": "markdown",
   "metadata": {},
   "source": [
    "###  Избавимся от выбросов"
   ]
  },
  {
   "cell_type": "code",
   "execution_count": 24,
   "metadata": {},
   "outputs": [],
   "source": [
    "def anomaly_del(data):\n",
    "    data = data[(data['rougher.output.concentrate_au'] > 0.2)&(data['rougher.output.concentrate_ag']>0.2)&(data['rougher.output.concentrate_pb'] > 0.2)&(data['primary_cleaner.output.concentrate_au'] > 0.2)&(data['primary_cleaner.output.concentrate_ag'] > 0.2)&(data['primary_cleaner.output.concentrate_pb'] > 0.2)&(data['final.output.concentrate_au'] > 0.2)&(data['final.output.concentrate_ag'] > 0.2)&(data['final.output.concentrate_pb'] > 0.2)]\n",
    "    return data"
   ]
  },
  {
   "cell_type": "code",
   "execution_count": 25,
   "metadata": {},
   "outputs": [],
   "source": [
    "data_train = anomaly_del(data_train)\n",
    "data_full = anomaly_del(data_full)"
   ]
  },
  {
   "cell_type": "markdown",
   "metadata": {},
   "source": [
    "Поскольку при повторном вызове ячейки с графиком концентрации аномалии ушли, будем считать, что функция работает"
   ]
  },
  {
   "cell_type": "markdown",
   "metadata": {},
   "source": [
    "### Вывод:   \n",
    "Анализ концентрации трёх разных металлов показал, что после каждой стадии очистки концентрация золота равномерно увеличивается, серебро достигает максимальной концентрации после rougher.output, а потом уменьшает ее с каждой очисткой. Свинец постепенно увеличивает концентрацию, и только на финальной стадии очистки немного уменьшает.   \n",
    "Суммарная же концентрация металлов после каждой очистки постепенно нарастает. На всех графиках были видны аномалии, которые впоследствии были удалены.   \n",
    "Были проанализированы графики распределение гранул исходного сырья на обучающей и тестовой выборках. Они достаточно близки для того, чтобы строить модель машинного обучения."
   ]
  },
  {
   "cell_type": "markdown",
   "metadata": {},
   "source": [
    "## Модель"
   ]
  },
  {
   "cell_type": "markdown",
   "metadata": {},
   "source": [
    "### Напишем функцию для вычисления итоговой smape."
   ]
  },
  {
   "cell_type": "markdown",
   "metadata": {},
   "source": [
    "сначала напишем функцию smape"
   ]
  },
  {
   "cell_type": "code",
   "execution_count": 26,
   "metadata": {},
   "outputs": [],
   "source": [
    "def smape(target, predict):\n",
    "    n = len(target)\n",
    "    return np.sum((np.abs(predict-target))/((np.abs(target)+np.abs(predict))/2))/n*100"
   ]
  },
  {
   "cell_type": "markdown",
   "metadata": {},
   "source": [
    "теперь для итоговой smape"
   ]
  },
  {
   "cell_type": "code",
   "execution_count": 27,
   "metadata": {},
   "outputs": [],
   "source": [
    "def final_smape(rougher_smape, final_smape):\n",
    "    return 0.25*rougher_smape + 0.75*final_smape"
   ]
  },
  {
   "cell_type": "code",
   "execution_count": 28,
   "metadata": {},
   "outputs": [],
   "source": [
    "score_s = make_scorer(smape, greater_is_better=False)"
   ]
  },
  {
   "cell_type": "markdown",
   "metadata": {},
   "source": [
    "### Обучим модели  и оценим их качество кросс-валидацией"
   ]
  },
  {
   "cell_type": "markdown",
   "metadata": {},
   "source": [
    "#### подготовим данные"
   ]
  },
  {
   "cell_type": "markdown",
   "metadata": {},
   "source": [
    "Удалим отсутствующие в тестовой выборке признаки, кроме необходимых"
   ]
  },
  {
   "cell_type": "code",
   "execution_count": 29,
   "metadata": {},
   "outputs": [],
   "source": [
    "to_delete = unavailable_for_test - set(['rougher.output.recovery','final.output.recovery'])"
   ]
  },
  {
   "cell_type": "code",
   "execution_count": 30,
   "metadata": {},
   "outputs": [],
   "source": [
    "data_train = data_train.drop( to_delete, axis=1)"
   ]
  },
  {
   "cell_type": "markdown",
   "metadata": {},
   "source": [
    "Определяем features и targets"
   ]
  },
  {
   "cell_type": "code",
   "execution_count": 31,
   "metadata": {},
   "outputs": [],
   "source": [
    "features_train = data_train.drop(['rougher.output.recovery', 'final.output.recovery'], axis=1)\n",
    "target_train_rough = data_train['rougher.output.recovery']\n",
    "target_train_final = data_train['final.output.recovery']\n",
    "features_test = data_test.drop(['rougher.output.recovery','final.output.recovery'], axis=1)\n",
    "target_test_rough = data_test['rougher.output.recovery']\n",
    "target_test_final = data_test['final.output.recovery']"
   ]
  },
  {
   "cell_type": "markdown",
   "metadata": {},
   "source": [
    "#### Обучим модель линейной регрессии"
   ]
  },
  {
   "cell_type": "code",
   "execution_count": 32,
   "metadata": {},
   "outputs": [],
   "source": [
    "model_rough_regression = LinearRegression()\n",
    "model_final_regression = LinearRegression()\n",
    "smape_rough = cross_val_score(model_rough_regression, features_train, target_train_rough, scoring=score_s)\n",
    "smape_final = cross_val_score(model_final_regression, features_train, target_train_final, scoring=score_s)\n",
    "smape_rough_final_regression = smape_rough.mean()\n",
    "smape_final_final_regression = smape_final.mean()"
   ]
  },
  {
   "cell_type": "code",
   "execution_count": 33,
   "metadata": {},
   "outputs": [
    {
     "name": "stdout",
     "output_type": "stream",
     "text": [
      "8.856277625758551\n"
     ]
    }
   ],
   "source": [
    "regression_smape = -final_smape(smape_rough_final_regression, smape_final_final_regression)\n",
    "\n",
    "print(regression_smape)"
   ]
  },
  {
   "cell_type": "markdown",
   "metadata": {},
   "source": [
    "#### Обучим модель дерева решений"
   ]
  },
  {
   "cell_type": "code",
   "execution_count": 34,
   "metadata": {},
   "outputs": [
    {
     "name": "stdout",
     "output_type": "stream",
     "text": [
      "6.657965340161256 \n",
      "лучшая глубина: 5\n"
     ]
    }
   ],
   "source": [
    "best_tree = 101\n",
    "best_depth_tree = 0\n",
    "for depth in range(1, 15):\n",
    "    model_rough_tree = DecisionTreeRegressor(max_depth = depth, random_state = 12345)\n",
    "    model_final_tree = DecisionTreeRegressor(max_depth = depth, random_state = 12345)\n",
    "    smape_rough_tree = cross_val_score(model_rough_tree, features_train, target_train_rough, scoring=score_s)\n",
    "    smape_final_tree = cross_val_score(model_final_tree, features_train, target_train_rough, scoring=score_s)\n",
    "    smape_rough_final_tree = smape_rough_tree.mean()\n",
    "    smape_final_final_tree = smape_final_tree.mean()\n",
    "    tree_smape = -final_smape(smape_rough_final_tree, smape_final_final_tree)\n",
    "    if tree_smape < best_tree:\n",
    "        best_tree = tree_smape\n",
    "        best_depth_tree = depth\n",
    "print(best_tree, \"\\nлучшая глубина:\", best_depth_tree)\n"
   ]
  },
  {
   "cell_type": "markdown",
   "metadata": {},
   "source": [
    "#### Теперь обучим модель случайного леса"
   ]
  },
  {
   "cell_type": "code",
   "execution_count": 35,
   "metadata": {},
   "outputs": [
    {
     "name": "stdout",
     "output_type": "stream",
     "text": [
      "Лучшая глубина  4\n",
      "Лучшее количество 15\n",
      "Лучшее качество 6.414659573997485\n"
     ]
    }
   ],
   "source": [
    "best_forest = 101\n",
    "best_forest_estim = 0\n",
    "best_forest_depth = 0\n",
    "for depth in range(4, 13, 4):\n",
    "    for estim in range(10, 21, 5):\n",
    "        model_rough_forest = RandomForestRegressor(max_depth = depth, n_estimators = estim, random_state = 12345)\n",
    "        model_final_forest = RandomForestRegressor(max_depth = depth, n_estimators = estim, random_state = 12345)\n",
    "        smape_rough_forest = cross_val_score(model_rough_forest, features_train, target_train_rough, scoring=score_s)\n",
    "        smape_final_forest = cross_val_score(model_final_forest, features_train, target_train_rough, scoring=score_s)\n",
    "        smape_rough_final_forest = smape_rough_forest.mean()\n",
    "        smape_final_final_forest = smape_final_forest.mean()\n",
    "        forest_smape = -final_smape( smape_rough_final_forest, smape_final_final_forest)\n",
    "        if forest_smape < best_forest:\n",
    "            best_forest = forest_smape \n",
    "            best_forest_estim = estim\n",
    "            best_forest_depth = depth\n",
    "print(\"Лучшая глубина \" , best_forest_depth)\n",
    "print(\"Лучшее количество\", best_forest_estim)\n",
    "print(\"Лучшее качество\", best_forest)\n",
    "   "
   ]
  },
  {
   "cell_type": "markdown",
   "metadata": {},
   "source": [
    "Итак, мы имеем следующие результаты:     \n",
    "Линейная регрессия - 8.856   \n",
    "Дерево решений с глубиной 5 - 6.658     \n",
    "Случайный лес глубиной 4 и числом деревьев 15 - 6.415   \n",
    "В борьбе моделей побеждает случайный лес с 15 деревьями и глубиной 4\n"
   ]
  },
  {
   "cell_type": "markdown",
   "metadata": {},
   "source": [
    "### Проверим лучшую модель на тестовой выборке"
   ]
  },
  {
   "cell_type": "code",
   "execution_count": 36,
   "metadata": {
    "scrolled": true
   },
   "outputs": [
    {
     "name": "stdout",
     "output_type": "stream",
     "text": [
      "smape для тестовой выборки 6.761027103713445\n"
     ]
    }
   ],
   "source": [
    "model_rough_test = RandomForestRegressor(n_estimators=15, max_depth=4, random_state = 12345)\n",
    "model_final_test = RandomForestRegressor(n_estimators=15, max_depth=4, random_state = 12345)\n",
    "\n",
    "model_rough_test.fit(features_train, target_train_rough)\n",
    "model_final_test.fit(features_train, target_train_final)\n",
    "\n",
    "predict_rough = model_rough_test.predict(features_test)\n",
    "predict_final = model_final_test.predict(features_test)\n",
    "\n",
    "smape_test_rough = smape(target_test_rough, predict_rough)\n",
    "smape_test_final = smape(target_test_final, predict_final)\n",
    "\n",
    "final_smape_test = final_smape(smape_test_rough, smape_test_final)\n",
    "print(\"smape для тестовой выборки\", final_smape_test)"
   ]
  },
  {
   "cell_type": "code",
   "execution_count": 37,
   "metadata": {},
   "outputs": [
    {
     "name": "stdout",
     "output_type": "stream",
     "text": [
      "smape для константной модели 8.467632971418706\n"
     ]
    }
   ],
   "source": [
    "dummy_rough = DummyRegressor(strategy='mean')\n",
    "dummy_final = DummyRegressor(strategy='mean')\n",
    "\n",
    "dummy_rough.fit(features_train, target_train_rough)\n",
    "dummy_final.fit(features_train, target_train_final)\n",
    "\n",
    "dummy_predict_rough = dummy_rough.predict(features_test)\n",
    "dummy_predict_final = dummy_final.predict(features_test)\n",
    "\n",
    "smape_dummy_rough = smape(target_test_rough, dummy_predict_rough)\n",
    "smape_dummy_final = smape(target_test_final, dummy_predict_final)\n",
    "\n",
    "final_smape_dummy = final_smape(smape_dummy_rough, smape_dummy_final)\n",
    "print(\"smape для константной модели\", final_smape_dummy)"
   ]
  },
  {
   "cell_type": "markdown",
   "metadata": {},
   "source": [
    "Поскольку smape для константной модели получился больше, чем у нашего случайного леса, то можно сказать, что наша модель прошла проверку."
   ]
  },
  {
   "cell_type": "markdown",
   "metadata": {},
   "source": [
    "### Вывод:\n",
    "Были написаны функции для вычисления smape и итоговой smape.\n",
    "На обучающей выборке были обучены модели регрессии, дерева решений и случайного леса. Лучший результат - 6.415 показала модель случайного леса. На оптимальных параметрах этой модели и тестовой выборке была обучена модель, которая показала похожие результаты smape - 6.761"
   ]
  },
  {
   "cell_type": "markdown",
   "metadata": {},
   "source": [
    "## Вывод:\n",
    "После изучения сырых данных из хранилища, в тренировочной и тестовой выборке были заполнены пропуски. Также была вычислена эффективность обогащения и МАЕ, которая оказалась низкой, что доказало правильность расчёта эффективности. Анализ признаков, недоступных в тестовой выборке выявил, что недостаёт целевых признаков, они были добавлены путём индексирования через столбец 'date'.   \n",
    "Анализ концентрации трёх разных металлов показал, что после каждой стадии очистки концентрация золота равномерно увеличивается, серебро достигает максимальной концентрации после rougher.output, а потом уменьшает ее с каждой очисткой. Свинец постепенно увеличивает концентрацию, и только на финальной стадии очистки немного уменьшает.\n",
    "Суммарная же концентрация металлов после каждой очистки постепенно нарастает. На всех графиках были видны аномалии, которые впоследствии были удалены.После анализа графиков распределения гранул на обучающей и тестовой выборке выяснилось, что они достаточно близки, чтобы строить модель машинного обучения.  \n",
    "Были обучены модели регрессии, дерева решений и случайного леса глубиной 4 и числом деревьев 15. По результатам smape была выбрана модель случайного леса. После проверки на тестовой выборке модель показала схожий результат. После сравнения с константной моделью, наша модель случайного леса показала smape ниже, что говорит о том, что она подходит.\n"
   ]
  }
 ],
 "metadata": {
  "ExecuteTimeLog": [
   {
    "duration": 89,
    "start_time": "2023-05-16T04:02:09.928Z"
   },
   {
    "duration": 4,
    "start_time": "2023-05-16T04:03:42.302Z"
   },
   {
    "duration": 408,
    "start_time": "2023-05-16T04:03:52.625Z"
   },
   {
    "duration": 50,
    "start_time": "2023-05-16T04:03:53.035Z"
   },
   {
    "duration": 2,
    "start_time": "2023-05-16T04:03:56.186Z"
   },
   {
    "duration": 24,
    "start_time": "2023-05-16T04:03:58.431Z"
   },
   {
    "duration": 138,
    "start_time": "2023-05-16T04:06:59.999Z"
   },
   {
    "duration": 397,
    "start_time": "2023-05-16T04:07:50.574Z"
   },
   {
    "duration": 68,
    "start_time": "2023-05-16T04:07:50.976Z"
   },
   {
    "duration": 1736,
    "start_time": "2023-05-16T04:11:46.949Z"
   },
   {
    "duration": 872,
    "start_time": "2023-05-16T04:12:23.357Z"
   },
   {
    "duration": 2554,
    "start_time": "2023-05-16T04:13:07.079Z"
   },
   {
    "duration": 34,
    "start_time": "2023-05-16T04:21:35.140Z"
   },
   {
    "duration": 30,
    "start_time": "2023-05-16T04:22:45.739Z"
   },
   {
    "duration": 22,
    "start_time": "2023-05-16T04:23:46.017Z"
   },
   {
    "duration": 3,
    "start_time": "2023-05-16T05:03:44.698Z"
   },
   {
    "duration": 144,
    "start_time": "2023-05-16T05:04:19.777Z"
   },
   {
    "duration": 47,
    "start_time": "2023-05-16T05:05:47.834Z"
   },
   {
    "duration": 167,
    "start_time": "2023-05-16T05:06:17.296Z"
   },
   {
    "duration": 5,
    "start_time": "2023-05-16T05:11:15.292Z"
   },
   {
    "duration": 210,
    "start_time": "2023-05-16T05:11:17.532Z"
   },
   {
    "duration": 111,
    "start_time": "2023-05-16T05:30:22.462Z"
   },
   {
    "duration": 63,
    "start_time": "2023-05-16T05:34:37.916Z"
   },
   {
    "duration": 44,
    "start_time": "2023-05-16T05:36:35.416Z"
   },
   {
    "duration": 2,
    "start_time": "2023-05-16T05:36:40.978Z"
   },
   {
    "duration": 779,
    "start_time": "2023-05-16T05:36:41.914Z"
   },
   {
    "duration": 4,
    "start_time": "2023-05-16T05:36:42.695Z"
   },
   {
    "duration": 153,
    "start_time": "2023-05-16T05:36:45.790Z"
   },
   {
    "duration": 43,
    "start_time": "2023-05-16T05:36:46.324Z"
   },
   {
    "duration": 129,
    "start_time": "2023-05-16T05:36:46.982Z"
   },
   {
    "duration": 10,
    "start_time": "2023-05-16T05:36:49.213Z"
   },
   {
    "duration": 10,
    "start_time": "2023-05-16T05:36:55.978Z"
   },
   {
    "duration": 7,
    "start_time": "2023-05-16T05:37:09.916Z"
   },
   {
    "duration": 8,
    "start_time": "2023-05-16T05:41:18.523Z"
   },
   {
    "duration": 3,
    "start_time": "2023-05-16T05:41:23.908Z"
   },
   {
    "duration": 51,
    "start_time": "2023-05-16T05:41:24.368Z"
   },
   {
    "duration": 16,
    "start_time": "2023-05-16T05:41:48.976Z"
   },
   {
    "duration": 24,
    "start_time": "2023-05-16T05:41:59.151Z"
   },
   {
    "duration": 21,
    "start_time": "2023-05-16T05:42:35.510Z"
   },
   {
    "duration": 16,
    "start_time": "2023-05-16T05:42:47.181Z"
   },
   {
    "duration": 17,
    "start_time": "2023-05-16T06:23:56.969Z"
   },
   {
    "duration": 22,
    "start_time": "2023-05-16T06:24:23.398Z"
   },
   {
    "duration": 12,
    "start_time": "2023-05-16T06:25:22.394Z"
   },
   {
    "duration": 36,
    "start_time": "2023-05-16T06:26:22.224Z"
   },
   {
    "duration": 26,
    "start_time": "2023-05-16T06:27:10.366Z"
   },
   {
    "duration": 32,
    "start_time": "2023-05-16T06:27:19.966Z"
   },
   {
    "duration": 31,
    "start_time": "2023-05-16T06:27:31.324Z"
   },
   {
    "duration": 25,
    "start_time": "2023-05-16T06:27:53.795Z"
   },
   {
    "duration": 30,
    "start_time": "2023-05-16T06:28:08.683Z"
   },
   {
    "duration": 32,
    "start_time": "2023-05-16T06:29:10.021Z"
   },
   {
    "duration": 70,
    "start_time": "2023-05-16T09:24:53.923Z"
   },
   {
    "duration": 379,
    "start_time": "2023-05-16T09:25:21.515Z"
   },
   {
    "duration": 3586,
    "start_time": "2023-05-16T09:25:21.896Z"
   },
   {
    "duration": 4,
    "start_time": "2023-05-16T09:25:25.484Z"
   },
   {
    "duration": 187,
    "start_time": "2023-05-16T09:25:25.491Z"
   },
   {
    "duration": 60,
    "start_time": "2023-05-16T09:25:25.679Z"
   },
   {
    "duration": 170,
    "start_time": "2023-05-16T09:25:25.741Z"
   },
   {
    "duration": 3,
    "start_time": "2023-05-16T09:25:25.913Z"
   },
   {
    "duration": 26,
    "start_time": "2023-05-16T09:25:25.918Z"
   },
   {
    "duration": 47,
    "start_time": "2023-05-16T09:25:25.946Z"
   },
   {
    "duration": 6,
    "start_time": "2023-05-16T09:25:25.996Z"
   },
   {
    "duration": 45,
    "start_time": "2023-05-16T09:25:26.004Z"
   },
   {
    "duration": 18,
    "start_time": "2023-05-16T09:25:48.920Z"
   },
   {
    "duration": 4,
    "start_time": "2023-05-16T09:31:31.092Z"
   },
   {
    "duration": 705,
    "start_time": "2023-05-16T09:46:10.361Z"
   },
   {
    "duration": 125,
    "start_time": "2023-05-16T09:49:59.999Z"
   },
   {
    "duration": 5,
    "start_time": "2023-05-16T09:50:13.493Z"
   },
   {
    "duration": 6,
    "start_time": "2023-05-16T09:50:24.204Z"
   },
   {
    "duration": 6,
    "start_time": "2023-05-16T09:51:53.711Z"
   },
   {
    "duration": 22,
    "start_time": "2023-05-16T11:11:51.271Z"
   },
   {
    "duration": 1121,
    "start_time": "2023-05-16T11:12:34.879Z"
   },
   {
    "duration": 723,
    "start_time": "2023-05-16T11:12:36.002Z"
   },
   {
    "duration": 5,
    "start_time": "2023-05-16T11:12:36.727Z"
   },
   {
    "duration": 159,
    "start_time": "2023-05-16T11:12:36.733Z"
   },
   {
    "duration": 43,
    "start_time": "2023-05-16T11:12:36.895Z"
   },
   {
    "duration": 155,
    "start_time": "2023-05-16T11:12:36.940Z"
   },
   {
    "duration": 4,
    "start_time": "2023-05-16T11:12:37.097Z"
   },
   {
    "duration": 19,
    "start_time": "2023-05-16T11:12:37.102Z"
   },
   {
    "duration": 59,
    "start_time": "2023-05-16T11:12:37.122Z"
   },
   {
    "duration": 14,
    "start_time": "2023-05-16T11:12:37.183Z"
   },
   {
    "duration": 5,
    "start_time": "2023-05-16T11:12:37.199Z"
   },
   {
    "duration": 127,
    "start_time": "2023-05-16T11:12:37.206Z"
   },
   {
    "duration": 5,
    "start_time": "2023-05-16T11:12:56.286Z"
   },
   {
    "duration": 3,
    "start_time": "2023-05-16T11:13:33.974Z"
   },
   {
    "duration": 4,
    "start_time": "2023-05-16T11:13:57.215Z"
   },
   {
    "duration": 9,
    "start_time": "2023-05-16T11:17:42.827Z"
   },
   {
    "duration": 10,
    "start_time": "2023-05-16T11:17:53.768Z"
   },
   {
    "duration": 9,
    "start_time": "2023-05-16T11:19:19.211Z"
   },
   {
    "duration": 69,
    "start_time": "2023-05-16T11:19:33.591Z"
   },
   {
    "duration": 9,
    "start_time": "2023-05-16T11:19:39.815Z"
   },
   {
    "duration": 8,
    "start_time": "2023-05-16T11:20:17.662Z"
   },
   {
    "duration": 10,
    "start_time": "2023-05-16T11:20:22.099Z"
   },
   {
    "duration": 18,
    "start_time": "2023-05-16T12:21:03.868Z"
   },
   {
    "duration": 26,
    "start_time": "2023-05-16T12:21:13.586Z"
   },
   {
    "duration": 98,
    "start_time": "2023-05-16T12:21:23.364Z"
   },
   {
    "duration": 54,
    "start_time": "2023-05-16T12:21:30.043Z"
   },
   {
    "duration": 17,
    "start_time": "2023-05-16T12:22:09.094Z"
   },
   {
    "duration": 25,
    "start_time": "2023-05-16T12:22:45.730Z"
   },
   {
    "duration": 30,
    "start_time": "2023-05-16T13:25:49.594Z"
   },
   {
    "duration": 890,
    "start_time": "2023-05-16T14:59:46.531Z"
   },
   {
    "duration": 4,
    "start_time": "2023-05-16T14:59:59.808Z"
   },
   {
    "duration": 11,
    "start_time": "2023-05-16T15:00:08.747Z"
   },
   {
    "duration": 72,
    "start_time": "2023-05-16T15:02:47.006Z"
   },
   {
    "duration": 30,
    "start_time": "2023-05-16T15:03:02.999Z"
   },
   {
    "duration": 19,
    "start_time": "2023-05-16T15:03:35.110Z"
   },
   {
    "duration": 34,
    "start_time": "2023-05-16T15:04:21.495Z"
   },
   {
    "duration": 131,
    "start_time": "2023-05-16T15:04:46.905Z"
   },
   {
    "duration": 75,
    "start_time": "2023-05-16T15:04:51.562Z"
   },
   {
    "duration": 30,
    "start_time": "2023-05-16T15:04:57.851Z"
   },
   {
    "duration": 34,
    "start_time": "2023-05-16T15:05:42.310Z"
   },
   {
    "duration": 226,
    "start_time": "2023-05-16T15:05:54.471Z"
   },
   {
    "duration": 305,
    "start_time": "2023-05-16T15:06:14.078Z"
   },
   {
    "duration": 300,
    "start_time": "2023-05-16T15:06:36.166Z"
   },
   {
    "duration": 235,
    "start_time": "2023-05-16T15:06:44.206Z"
   },
   {
    "duration": 242,
    "start_time": "2023-05-16T15:06:51.154Z"
   },
   {
    "duration": 334,
    "start_time": "2023-05-16T15:07:03.074Z"
   },
   {
    "duration": 9,
    "start_time": "2023-05-16T15:07:13.146Z"
   },
   {
    "duration": 286,
    "start_time": "2023-05-16T15:07:15.500Z"
   },
   {
    "duration": 543,
    "start_time": "2023-05-16T15:07:35.243Z"
   },
   {
    "duration": 238,
    "start_time": "2023-05-16T15:07:50.882Z"
   },
   {
    "duration": 376,
    "start_time": "2023-05-16T15:08:02.090Z"
   },
   {
    "duration": 288,
    "start_time": "2023-05-16T15:11:55.805Z"
   },
   {
    "duration": 264,
    "start_time": "2023-05-16T15:12:03.978Z"
   },
   {
    "duration": 284,
    "start_time": "2023-05-16T15:12:10.969Z"
   },
   {
    "duration": 249,
    "start_time": "2023-05-16T15:12:18.855Z"
   },
   {
    "duration": 31,
    "start_time": "2023-05-16T15:13:12.254Z"
   },
   {
    "duration": 232,
    "start_time": "2023-05-16T15:14:04.197Z"
   },
   {
    "duration": 274,
    "start_time": "2023-05-16T15:14:19.629Z"
   },
   {
    "duration": 235,
    "start_time": "2023-05-16T15:14:26.977Z"
   },
   {
    "duration": 12,
    "start_time": "2023-05-16T15:14:45.718Z"
   },
   {
    "duration": 262,
    "start_time": "2023-05-16T15:17:45.277Z"
   },
   {
    "duration": 217,
    "start_time": "2023-05-16T15:18:29.505Z"
   },
   {
    "duration": 238,
    "start_time": "2023-05-16T15:18:40.706Z"
   },
   {
    "duration": 70,
    "start_time": "2023-05-16T15:21:50.236Z"
   },
   {
    "duration": 86,
    "start_time": "2023-05-16T15:22:37.872Z"
   },
   {
    "duration": 74,
    "start_time": "2023-05-16T15:22:49.158Z"
   },
   {
    "duration": 77,
    "start_time": "2023-05-16T15:23:00.565Z"
   },
   {
    "duration": 4,
    "start_time": "2023-05-16T15:23:16.003Z"
   },
   {
    "duration": 52,
    "start_time": "2023-05-16T15:23:32.104Z"
   },
   {
    "duration": 513,
    "start_time": "2023-05-16T15:23:50.691Z"
   },
   {
    "duration": 602,
    "start_time": "2023-05-16T15:24:55.464Z"
   },
   {
    "duration": 665,
    "start_time": "2023-05-16T15:25:30.805Z"
   },
   {
    "duration": 1199,
    "start_time": "2023-05-16T15:25:59.932Z"
   },
   {
    "duration": 1531,
    "start_time": "2023-05-16T15:37:48.885Z"
   },
   {
    "duration": 1773,
    "start_time": "2023-05-16T15:38:27.340Z"
   },
   {
    "duration": 1622,
    "start_time": "2023-05-16T15:38:51.004Z"
   },
   {
    "duration": 2000,
    "start_time": "2023-05-16T15:39:12.394Z"
   },
   {
    "duration": 858,
    "start_time": "2023-05-16T15:39:29.879Z"
   },
   {
    "duration": 2329,
    "start_time": "2023-05-16T15:41:16.771Z"
   },
   {
    "duration": 1968,
    "start_time": "2023-05-16T15:41:33.005Z"
   },
   {
    "duration": 2383,
    "start_time": "2023-05-16T15:43:44.365Z"
   },
   {
    "duration": 10,
    "start_time": "2023-05-16T16:19:05.372Z"
   },
   {
    "duration": 2296,
    "start_time": "2023-05-16T16:20:41.406Z"
   },
   {
    "duration": 18,
    "start_time": "2023-05-16T16:21:05.611Z"
   },
   {
    "duration": 2695,
    "start_time": "2023-05-16T16:21:17.602Z"
   },
   {
    "duration": 32,
    "start_time": "2023-05-16T16:22:35.818Z"
   },
   {
    "duration": 8,
    "start_time": "2023-05-16T16:23:04.562Z"
   },
   {
    "duration": 2079,
    "start_time": "2023-05-16T16:23:05.830Z"
   },
   {
    "duration": 3410,
    "start_time": "2023-05-16T16:23:56.305Z"
   },
   {
    "duration": 13,
    "start_time": "2023-05-16T16:26:10.830Z"
   },
   {
    "duration": 5049,
    "start_time": "2023-05-16T16:26:24.729Z"
   },
   {
    "duration": 1250,
    "start_time": "2023-05-16T16:27:07.703Z"
   },
   {
    "duration": 1522,
    "start_time": "2023-05-16T16:27:14.040Z"
   },
   {
    "duration": 1866,
    "start_time": "2023-05-16T16:28:22.403Z"
   },
   {
    "duration": 1779,
    "start_time": "2023-05-16T16:28:47.462Z"
   },
   {
    "duration": 1744,
    "start_time": "2023-05-16T16:29:02.607Z"
   },
   {
    "duration": 1394,
    "start_time": "2023-05-16T16:29:29.158Z"
   },
   {
    "duration": 71,
    "start_time": "2023-05-16T19:57:53.513Z"
   },
   {
    "duration": 5,
    "start_time": "2023-05-16T19:57:58.510Z"
   },
   {
    "duration": 9,
    "start_time": "2023-05-16T19:57:59.028Z"
   },
   {
    "duration": 2128,
    "start_time": "2023-05-16T19:58:09.204Z"
   },
   {
    "duration": 4180,
    "start_time": "2023-05-16T19:58:11.334Z"
   },
   {
    "duration": 4,
    "start_time": "2023-05-16T19:58:15.516Z"
   },
   {
    "duration": 242,
    "start_time": "2023-05-16T19:58:15.521Z"
   },
   {
    "duration": 67,
    "start_time": "2023-05-16T19:58:15.766Z"
   },
   {
    "duration": 180,
    "start_time": "2023-05-16T19:58:15.835Z"
   },
   {
    "duration": 6,
    "start_time": "2023-05-16T19:58:16.017Z"
   },
   {
    "duration": 49,
    "start_time": "2023-05-16T19:58:16.025Z"
   },
   {
    "duration": 96,
    "start_time": "2023-05-16T19:58:16.075Z"
   },
   {
    "duration": 22,
    "start_time": "2023-05-16T19:58:16.179Z"
   },
   {
    "duration": 21,
    "start_time": "2023-05-16T19:58:16.203Z"
   },
   {
    "duration": 12,
    "start_time": "2023-05-16T19:58:16.226Z"
   },
   {
    "duration": 88,
    "start_time": "2023-05-16T19:58:16.240Z"
   },
   {
    "duration": 30,
    "start_time": "2023-05-16T19:58:16.331Z"
   },
   {
    "duration": 49,
    "start_time": "2023-05-16T19:58:16.364Z"
   },
   {
    "duration": 449,
    "start_time": "2023-05-16T19:58:16.415Z"
   },
   {
    "duration": 0,
    "start_time": "2023-05-16T19:58:16.873Z"
   },
   {
    "duration": 4,
    "start_time": "2023-05-16T19:58:31.123Z"
   },
   {
    "duration": 302,
    "start_time": "2023-05-16T19:58:31.918Z"
   },
   {
    "duration": 7,
    "start_time": "2023-05-16T19:58:48.771Z"
   },
   {
    "duration": 18,
    "start_time": "2023-05-16T19:58:58.947Z"
   },
   {
    "duration": 230,
    "start_time": "2023-05-16T19:58:59.893Z"
   },
   {
    "duration": 291,
    "start_time": "2023-05-16T20:00:09.300Z"
   },
   {
    "duration": 290,
    "start_time": "2023-05-16T20:00:48.941Z"
   },
   {
    "duration": 243,
    "start_time": "2023-05-16T20:01:16.191Z"
   },
   {
    "duration": 5,
    "start_time": "2023-05-16T20:02:09.635Z"
   },
   {
    "duration": 186,
    "start_time": "2023-05-16T20:02:10.593Z"
   },
   {
    "duration": 5,
    "start_time": "2023-05-16T20:02:21.436Z"
   },
   {
    "duration": 221,
    "start_time": "2023-05-16T20:02:22.176Z"
   },
   {
    "duration": 224,
    "start_time": "2023-05-16T20:02:23.117Z"
   },
   {
    "duration": 210,
    "start_time": "2023-05-16T20:02:25.388Z"
   },
   {
    "duration": 5,
    "start_time": "2023-05-16T20:02:56.440Z"
   },
   {
    "duration": 298,
    "start_time": "2023-05-16T20:02:57.603Z"
   },
   {
    "duration": 340,
    "start_time": "2023-05-16T20:03:05.432Z"
   },
   {
    "duration": 252,
    "start_time": "2023-05-16T20:03:06.523Z"
   },
   {
    "duration": 4,
    "start_time": "2023-05-16T20:04:03.419Z"
   },
   {
    "duration": 1426,
    "start_time": "2023-05-16T20:04:04.964Z"
   },
   {
    "duration": 1120,
    "start_time": "2023-05-16T20:04:06.392Z"
   },
   {
    "duration": 1113,
    "start_time": "2023-05-16T20:04:07.514Z"
   },
   {
    "duration": 11,
    "start_time": "2023-05-16T20:04:17.444Z"
   },
   {
    "duration": 288,
    "start_time": "2023-05-16T20:04:18.192Z"
   },
   {
    "duration": 334,
    "start_time": "2023-05-16T20:04:19.246Z"
   },
   {
    "duration": 139,
    "start_time": "2023-05-17T05:36:24.933Z"
   },
   {
    "duration": 7,
    "start_time": "2023-05-17T05:36:32.409Z"
   },
   {
    "duration": 9,
    "start_time": "2023-05-17T05:36:33.290Z"
   },
   {
    "duration": 2570,
    "start_time": "2023-05-17T05:36:51.092Z"
   },
   {
    "duration": 3635,
    "start_time": "2023-05-17T05:36:53.669Z"
   },
   {
    "duration": 5,
    "start_time": "2023-05-17T05:36:57.306Z"
   },
   {
    "duration": 294,
    "start_time": "2023-05-17T05:36:57.313Z"
   },
   {
    "duration": 73,
    "start_time": "2023-05-17T05:36:57.609Z"
   },
   {
    "duration": 179,
    "start_time": "2023-05-17T05:36:57.685Z"
   },
   {
    "duration": 5,
    "start_time": "2023-05-17T05:36:57.869Z"
   },
   {
    "duration": 122,
    "start_time": "2023-05-17T05:36:57.876Z"
   },
   {
    "duration": 136,
    "start_time": "2023-05-17T05:36:58.000Z"
   },
   {
    "duration": 71,
    "start_time": "2023-05-17T05:36:58.137Z"
   },
   {
    "duration": 80,
    "start_time": "2023-05-17T05:36:58.210Z"
   },
   {
    "duration": 82,
    "start_time": "2023-05-17T05:36:58.292Z"
   },
   {
    "duration": 61,
    "start_time": "2023-05-17T05:36:58.375Z"
   },
   {
    "duration": 98,
    "start_time": "2023-05-17T05:36:58.439Z"
   },
   {
    "duration": 91,
    "start_time": "2023-05-17T05:36:58.539Z"
   },
   {
    "duration": 1584,
    "start_time": "2023-05-17T05:36:58.632Z"
   },
   {
    "duration": 1045,
    "start_time": "2023-05-17T05:37:00.218Z"
   },
   {
    "duration": 1275,
    "start_time": "2023-05-17T05:37:01.265Z"
   },
   {
    "duration": 10,
    "start_time": "2023-05-17T05:37:02.545Z"
   },
   {
    "duration": 476,
    "start_time": "2023-05-17T05:37:02.563Z"
   },
   {
    "duration": 334,
    "start_time": "2023-05-17T05:37:03.046Z"
   },
   {
    "duration": 4,
    "start_time": "2023-05-17T05:37:03.382Z"
   },
   {
    "duration": 107,
    "start_time": "2023-05-17T05:37:03.388Z"
   },
   {
    "duration": 197,
    "start_time": "2023-05-17T05:37:03.497Z"
   },
   {
    "duration": 7,
    "start_time": "2023-05-17T05:37:23.420Z"
   },
   {
    "duration": 7,
    "start_time": "2023-05-17T05:38:06.461Z"
   },
   {
    "duration": 9,
    "start_time": "2023-05-17T05:39:26.172Z"
   },
   {
    "duration": 8,
    "start_time": "2023-05-17T05:39:27.419Z"
   },
   {
    "duration": 5,
    "start_time": "2023-05-17T05:39:58.269Z"
   },
   {
    "duration": 21,
    "start_time": "2023-05-17T05:39:59.184Z"
   },
   {
    "duration": 10,
    "start_time": "2023-05-17T05:40:08.846Z"
   },
   {
    "duration": 28,
    "start_time": "2023-05-17T05:40:09.844Z"
   },
   {
    "duration": 4,
    "start_time": "2023-05-17T05:40:55.439Z"
   },
   {
    "duration": 33,
    "start_time": "2023-05-17T05:40:56.336Z"
   },
   {
    "duration": 5,
    "start_time": "2023-05-17T05:41:46.586Z"
   },
   {
    "duration": 18,
    "start_time": "2023-05-17T05:41:47.272Z"
   },
   {
    "duration": 10,
    "start_time": "2023-05-17T06:11:20.065Z"
   },
   {
    "duration": 330,
    "start_time": "2023-05-17T06:18:14.099Z"
   },
   {
    "duration": 629,
    "start_time": "2023-05-17T06:19:09.045Z"
   },
   {
    "duration": 2555,
    "start_time": "2023-05-17T06:19:54.340Z"
   },
   {
    "duration": 2603,
    "start_time": "2023-05-17T06:20:11.217Z"
   },
   {
    "duration": 557,
    "start_time": "2023-05-17T06:21:32.814Z"
   },
   {
    "duration": 595,
    "start_time": "2023-05-17T06:23:02.999Z"
   },
   {
    "duration": 953,
    "start_time": "2023-05-17T06:23:07.479Z"
   },
   {
    "duration": 1433,
    "start_time": "2023-05-17T06:24:17.924Z"
   },
   {
    "duration": 2028,
    "start_time": "2023-05-17T06:25:01.493Z"
   },
   {
    "duration": 2692,
    "start_time": "2023-05-17T06:27:05.827Z"
   },
   {
    "duration": 173,
    "start_time": "2023-05-17T07:02:04.886Z"
   },
   {
    "duration": 109,
    "start_time": "2023-05-17T07:02:27.163Z"
   },
   {
    "duration": 97,
    "start_time": "2023-05-17T07:02:50.213Z"
   },
   {
    "duration": 11,
    "start_time": "2023-05-17T07:03:08.009Z"
   },
   {
    "duration": 17,
    "start_time": "2023-05-17T07:07:18.661Z"
   },
   {
    "duration": 2034,
    "start_time": "2023-05-17T07:16:08.016Z"
   },
   {
    "duration": 9,
    "start_time": "2023-05-17T07:16:21.984Z"
   },
   {
    "duration": 1338,
    "start_time": "2023-05-17T07:16:50.419Z"
   },
   {
    "duration": 12,
    "start_time": "2023-05-17T07:19:01.914Z"
   },
   {
    "duration": 12,
    "start_time": "2023-05-17T07:19:26.332Z"
   },
   {
    "duration": 1489,
    "start_time": "2023-05-17T07:19:32.242Z"
   },
   {
    "duration": 10,
    "start_time": "2023-05-17T07:22:45.091Z"
   },
   {
    "duration": 17,
    "start_time": "2023-05-17T07:24:38.191Z"
   },
   {
    "duration": 2498,
    "start_time": "2023-05-17T07:24:42.250Z"
   },
   {
    "duration": 1627,
    "start_time": "2023-05-17T07:24:50.954Z"
   },
   {
    "duration": 1096,
    "start_time": "2023-05-17T07:24:57.000Z"
   },
   {
    "duration": 927,
    "start_time": "2023-05-17T07:25:04.012Z"
   },
   {
    "duration": 4,
    "start_time": "2023-05-17T08:00:18.430Z"
   },
   {
    "duration": 12,
    "start_time": "2023-05-17T08:00:52.820Z"
   },
   {
    "duration": 1629,
    "start_time": "2023-05-17T08:01:11.921Z"
   },
   {
    "duration": 845,
    "start_time": "2023-05-17T08:01:13.553Z"
   },
   {
    "duration": 4,
    "start_time": "2023-05-17T08:01:14.399Z"
   },
   {
    "duration": 171,
    "start_time": "2023-05-17T08:01:14.405Z"
   },
   {
    "duration": 44,
    "start_time": "2023-05-17T08:01:14.579Z"
   },
   {
    "duration": 157,
    "start_time": "2023-05-17T08:01:14.625Z"
   },
   {
    "duration": 3,
    "start_time": "2023-05-17T08:01:14.784Z"
   },
   {
    "duration": 25,
    "start_time": "2023-05-17T08:01:14.789Z"
   },
   {
    "duration": 48,
    "start_time": "2023-05-17T08:01:14.816Z"
   },
   {
    "duration": 12,
    "start_time": "2023-05-17T08:01:14.867Z"
   },
   {
    "duration": 5,
    "start_time": "2023-05-17T08:01:14.881Z"
   },
   {
    "duration": 14,
    "start_time": "2023-05-17T08:01:14.888Z"
   },
   {
    "duration": 43,
    "start_time": "2023-05-17T08:01:14.904Z"
   },
   {
    "duration": 11,
    "start_time": "2023-05-17T08:01:14.950Z"
   },
   {
    "duration": 17,
    "start_time": "2023-05-17T08:01:14.963Z"
   },
   {
    "duration": 1267,
    "start_time": "2023-05-17T08:01:14.981Z"
   },
   {
    "duration": 937,
    "start_time": "2023-05-17T08:01:16.250Z"
   },
   {
    "duration": 987,
    "start_time": "2023-05-17T08:01:17.189Z"
   },
   {
    "duration": 4,
    "start_time": "2023-05-17T08:01:18.179Z"
   },
   {
    "duration": 242,
    "start_time": "2023-05-17T08:01:18.185Z"
   },
   {
    "duration": 252,
    "start_time": "2023-05-17T08:01:18.428Z"
   },
   {
    "duration": 3,
    "start_time": "2023-05-17T08:01:18.681Z"
   },
   {
    "duration": 1933,
    "start_time": "2023-05-17T08:01:18.686Z"
   },
   {
    "duration": 4,
    "start_time": "2023-05-17T08:01:20.621Z"
   },
   {
    "duration": 43,
    "start_time": "2023-05-17T08:01:20.627Z"
   },
   {
    "duration": 35,
    "start_time": "2023-05-17T08:01:20.672Z"
   },
   {
    "duration": 1496,
    "start_time": "2023-05-17T08:01:49.609Z"
   },
   {
    "duration": 795,
    "start_time": "2023-05-17T08:01:51.108Z"
   },
   {
    "duration": 4,
    "start_time": "2023-05-17T08:01:51.905Z"
   },
   {
    "duration": 187,
    "start_time": "2023-05-17T08:01:51.911Z"
   },
   {
    "duration": 57,
    "start_time": "2023-05-17T08:01:52.100Z"
   },
   {
    "duration": 140,
    "start_time": "2023-05-17T08:01:52.159Z"
   },
   {
    "duration": 3,
    "start_time": "2023-05-17T08:01:52.301Z"
   },
   {
    "duration": 41,
    "start_time": "2023-05-17T08:01:52.306Z"
   },
   {
    "duration": 44,
    "start_time": "2023-05-17T08:01:52.349Z"
   },
   {
    "duration": 14,
    "start_time": "2023-05-17T08:01:52.395Z"
   },
   {
    "duration": 14,
    "start_time": "2023-05-17T08:01:52.411Z"
   },
   {
    "duration": 20,
    "start_time": "2023-05-17T08:01:52.427Z"
   },
   {
    "duration": 34,
    "start_time": "2023-05-17T08:01:52.450Z"
   },
   {
    "duration": 24,
    "start_time": "2023-05-17T08:01:52.488Z"
   },
   {
    "duration": 22,
    "start_time": "2023-05-17T08:01:52.515Z"
   },
   {
    "duration": 1309,
    "start_time": "2023-05-17T08:01:52.540Z"
   },
   {
    "duration": 907,
    "start_time": "2023-05-17T08:01:53.851Z"
   },
   {
    "duration": 1015,
    "start_time": "2023-05-17T08:01:54.760Z"
   },
   {
    "duration": 5,
    "start_time": "2023-05-17T08:01:55.777Z"
   },
   {
    "duration": 237,
    "start_time": "2023-05-17T08:01:55.783Z"
   },
   {
    "duration": 260,
    "start_time": "2023-05-17T08:01:56.021Z"
   },
   {
    "duration": 3,
    "start_time": "2023-05-17T08:01:56.283Z"
   },
   {
    "duration": 1910,
    "start_time": "2023-05-17T08:01:56.287Z"
   },
   {
    "duration": 4,
    "start_time": "2023-05-17T08:01:58.199Z"
   },
   {
    "duration": 32,
    "start_time": "2023-05-17T08:01:58.205Z"
   },
   {
    "duration": 2073,
    "start_time": "2023-05-17T08:02:05.749Z"
   },
   {
    "duration": 18,
    "start_time": "2023-05-17T08:02:37.977Z"
   },
   {
    "duration": 1942,
    "start_time": "2023-05-17T08:02:44.782Z"
   },
   {
    "duration": 1323,
    "start_time": "2023-05-17T08:02:52.883Z"
   },
   {
    "duration": 5,
    "start_time": "2023-05-17T08:03:19.792Z"
   },
   {
    "duration": 42,
    "start_time": "2023-05-17T08:03:29.666Z"
   },
   {
    "duration": 2086,
    "start_time": "2023-05-17T08:03:39.623Z"
   },
   {
    "duration": 2156,
    "start_time": "2023-05-17T08:04:25.812Z"
   },
   {
    "duration": 16,
    "start_time": "2023-05-17T08:04:51.279Z"
   },
   {
    "duration": 2003,
    "start_time": "2023-05-17T08:05:04.520Z"
   },
   {
    "duration": 569,
    "start_time": "2023-05-17T09:08:01.486Z"
   },
   {
    "duration": 3,
    "start_time": "2023-05-17T09:08:09.743Z"
   },
   {
    "duration": 4,
    "start_time": "2023-05-17T09:46:57.764Z"
   },
   {
    "duration": 2143,
    "start_time": "2023-05-17T10:36:45.181Z"
   },
   {
    "duration": 5224,
    "start_time": "2023-05-17T10:36:47.327Z"
   },
   {
    "duration": 11,
    "start_time": "2023-05-17T10:36:52.560Z"
   },
   {
    "duration": 402,
    "start_time": "2023-05-17T10:36:52.578Z"
   },
   {
    "duration": 90,
    "start_time": "2023-05-17T10:36:52.996Z"
   },
   {
    "duration": 368,
    "start_time": "2023-05-17T10:36:53.088Z"
   },
   {
    "duration": 5,
    "start_time": "2023-05-17T10:36:53.458Z"
   },
   {
    "duration": 124,
    "start_time": "2023-05-17T10:36:53.466Z"
   },
   {
    "duration": 132,
    "start_time": "2023-05-17T10:36:53.592Z"
   },
   {
    "duration": 15,
    "start_time": "2023-05-17T10:36:53.728Z"
   },
   {
    "duration": 73,
    "start_time": "2023-05-17T10:36:53.755Z"
   },
   {
    "duration": 89,
    "start_time": "2023-05-17T10:36:53.831Z"
   },
   {
    "duration": 54,
    "start_time": "2023-05-17T10:36:53.923Z"
   },
   {
    "duration": 60,
    "start_time": "2023-05-17T10:36:53.979Z"
   },
   {
    "duration": 69,
    "start_time": "2023-05-17T10:36:54.041Z"
   },
   {
    "duration": 1705,
    "start_time": "2023-05-17T10:36:54.112Z"
   },
   {
    "duration": 1364,
    "start_time": "2023-05-17T10:36:55.819Z"
   },
   {
    "duration": 1459,
    "start_time": "2023-05-17T10:36:57.184Z"
   },
   {
    "duration": 11,
    "start_time": "2023-05-17T10:36:58.660Z"
   },
   {
    "duration": 487,
    "start_time": "2023-05-17T10:36:58.673Z"
   },
   {
    "duration": 388,
    "start_time": "2023-05-17T10:36:59.166Z"
   },
   {
    "duration": 4,
    "start_time": "2023-05-17T10:36:59.557Z"
   },
   {
    "duration": 2798,
    "start_time": "2023-05-17T10:36:59.563Z"
   },
   {
    "duration": 7,
    "start_time": "2023-05-17T10:37:02.363Z"
   },
   {
    "duration": 102,
    "start_time": "2023-05-17T10:37:02.372Z"
   },
   {
    "duration": 52,
    "start_time": "2023-05-17T10:37:02.481Z"
   },
   {
    "duration": 65,
    "start_time": "2023-05-17T10:37:02.536Z"
   },
   {
    "duration": 173,
    "start_time": "2023-05-17T10:37:02.606Z"
   },
   {
    "duration": 10,
    "start_time": "2023-05-17T10:46:41.405Z"
   },
   {
    "duration": 3,
    "start_time": "2023-05-17T11:04:09.696Z"
   },
   {
    "duration": 7,
    "start_time": "2023-05-17T11:08:35.730Z"
   },
   {
    "duration": 9,
    "start_time": "2023-05-17T11:08:36.586Z"
   },
   {
    "duration": 5,
    "start_time": "2023-05-17T11:11:30.713Z"
   },
   {
    "duration": 7,
    "start_time": "2023-05-17T11:12:48.537Z"
   },
   {
    "duration": 6,
    "start_time": "2023-05-17T11:28:47.642Z"
   },
   {
    "duration": 32,
    "start_time": "2023-05-17T11:28:48.700Z"
   },
   {
    "duration": 4,
    "start_time": "2023-05-17T11:29:18.870Z"
   },
   {
    "duration": 15,
    "start_time": "2023-05-17T11:29:31.109Z"
   },
   {
    "duration": 16,
    "start_time": "2023-05-17T11:33:27.684Z"
   },
   {
    "duration": 20,
    "start_time": "2023-05-17T11:43:37.534Z"
   },
   {
    "duration": 2471,
    "start_time": "2023-05-17T11:43:58.438Z"
   },
   {
    "duration": 1418,
    "start_time": "2023-05-17T11:44:00.917Z"
   },
   {
    "duration": 5,
    "start_time": "2023-05-17T11:44:02.338Z"
   },
   {
    "duration": 434,
    "start_time": "2023-05-17T11:44:02.346Z"
   },
   {
    "duration": 80,
    "start_time": "2023-05-17T11:44:02.786Z"
   },
   {
    "duration": 339,
    "start_time": "2023-05-17T11:44:02.869Z"
   },
   {
    "duration": 7,
    "start_time": "2023-05-17T11:44:03.215Z"
   },
   {
    "duration": 71,
    "start_time": "2023-05-17T11:44:03.229Z"
   },
   {
    "duration": 120,
    "start_time": "2023-05-17T11:44:03.309Z"
   },
   {
    "duration": 51,
    "start_time": "2023-05-17T11:44:03.433Z"
   },
   {
    "duration": 105,
    "start_time": "2023-05-17T11:44:03.491Z"
   },
   {
    "duration": 106,
    "start_time": "2023-05-17T11:44:03.599Z"
   },
   {
    "duration": 103,
    "start_time": "2023-05-17T11:44:03.712Z"
   },
   {
    "duration": 106,
    "start_time": "2023-05-17T11:44:03.823Z"
   },
   {
    "duration": 22,
    "start_time": "2023-05-17T11:44:03.931Z"
   },
   {
    "duration": 1959,
    "start_time": "2023-05-17T11:44:03.960Z"
   },
   {
    "duration": 1255,
    "start_time": "2023-05-17T11:44:05.921Z"
   },
   {
    "duration": 1258,
    "start_time": "2023-05-17T11:44:07.182Z"
   },
   {
    "duration": 13,
    "start_time": "2023-05-17T11:44:08.442Z"
   },
   {
    "duration": 335,
    "start_time": "2023-05-17T11:44:08.465Z"
   },
   {
    "duration": 330,
    "start_time": "2023-05-17T11:44:08.803Z"
   },
   {
    "duration": 24,
    "start_time": "2023-05-17T11:44:09.135Z"
   },
   {
    "duration": 2381,
    "start_time": "2023-05-17T11:44:09.161Z"
   },
   {
    "duration": 12,
    "start_time": "2023-05-17T11:44:11.545Z"
   },
   {
    "duration": 62,
    "start_time": "2023-05-17T11:44:11.559Z"
   },
   {
    "duration": 7,
    "start_time": "2023-05-17T11:44:11.624Z"
   },
   {
    "duration": 12,
    "start_time": "2023-05-17T11:44:11.633Z"
   },
   {
    "duration": 46,
    "start_time": "2023-05-17T11:44:11.655Z"
   },
   {
    "duration": 16,
    "start_time": "2023-05-17T11:44:11.703Z"
   },
   {
    "duration": 167,
    "start_time": "2023-05-17T11:44:11.721Z"
   },
   {
    "duration": 0,
    "start_time": "2023-05-17T11:44:11.890Z"
   },
   {
    "duration": 0,
    "start_time": "2023-05-17T11:44:11.891Z"
   },
   {
    "duration": 0,
    "start_time": "2023-05-17T11:44:11.892Z"
   },
   {
    "duration": 0,
    "start_time": "2023-05-17T11:44:11.897Z"
   },
   {
    "duration": 77,
    "start_time": "2023-05-17T13:36:00.099Z"
   },
   {
    "duration": 1763,
    "start_time": "2023-05-17T13:36:17.843Z"
   },
   {
    "duration": 3389,
    "start_time": "2023-05-17T13:36:19.608Z"
   },
   {
    "duration": 7,
    "start_time": "2023-05-17T13:36:23.000Z"
   },
   {
    "duration": 216,
    "start_time": "2023-05-17T13:36:23.010Z"
   },
   {
    "duration": 72,
    "start_time": "2023-05-17T13:36:23.229Z"
   },
   {
    "duration": 167,
    "start_time": "2023-05-17T13:36:23.303Z"
   },
   {
    "duration": 3,
    "start_time": "2023-05-17T13:36:23.472Z"
   },
   {
    "duration": 31,
    "start_time": "2023-05-17T13:36:23.492Z"
   },
   {
    "duration": 37,
    "start_time": "2023-05-17T13:36:23.525Z"
   },
   {
    "duration": 36,
    "start_time": "2023-05-17T13:36:23.564Z"
   },
   {
    "duration": 21,
    "start_time": "2023-05-17T13:36:23.603Z"
   },
   {
    "duration": 22,
    "start_time": "2023-05-17T13:36:23.626Z"
   },
   {
    "duration": 18,
    "start_time": "2023-05-17T13:36:23.649Z"
   },
   {
    "duration": 13,
    "start_time": "2023-05-17T13:36:23.670Z"
   },
   {
    "duration": 5,
    "start_time": "2023-05-17T13:36:23.688Z"
   },
   {
    "duration": 1444,
    "start_time": "2023-05-17T13:36:23.696Z"
   },
   {
    "duration": 928,
    "start_time": "2023-05-17T13:36:25.141Z"
   },
   {
    "duration": 1064,
    "start_time": "2023-05-17T13:36:26.071Z"
   },
   {
    "duration": 5,
    "start_time": "2023-05-17T13:36:27.137Z"
   },
   {
    "duration": 247,
    "start_time": "2023-05-17T13:36:27.144Z"
   },
   {
    "duration": 301,
    "start_time": "2023-05-17T13:36:27.394Z"
   },
   {
    "duration": 9,
    "start_time": "2023-05-17T13:36:27.698Z"
   },
   {
    "duration": 2135,
    "start_time": "2023-05-17T13:36:27.710Z"
   },
   {
    "duration": 5,
    "start_time": "2023-05-17T13:36:29.847Z"
   },
   {
    "duration": 27,
    "start_time": "2023-05-17T13:36:29.853Z"
   },
   {
    "duration": 10,
    "start_time": "2023-05-17T13:36:29.882Z"
   },
   {
    "duration": 40,
    "start_time": "2023-05-17T13:36:29.894Z"
   },
   {
    "duration": 17,
    "start_time": "2023-05-17T13:36:29.937Z"
   },
   {
    "duration": 20,
    "start_time": "2023-05-17T13:36:29.957Z"
   },
   {
    "duration": 27,
    "start_time": "2023-05-17T13:36:29.980Z"
   },
   {
    "duration": 163,
    "start_time": "2023-05-17T13:36:30.010Z"
   },
   {
    "duration": 0,
    "start_time": "2023-05-17T13:36:30.176Z"
   },
   {
    "duration": 0,
    "start_time": "2023-05-17T13:36:30.178Z"
   },
   {
    "duration": 14,
    "start_time": "2023-05-17T13:41:40.411Z"
   },
   {
    "duration": 6,
    "start_time": "2023-05-17T13:44:59.890Z"
   },
   {
    "duration": 11,
    "start_time": "2023-05-17T13:45:08.200Z"
   },
   {
    "duration": 10,
    "start_time": "2023-05-17T13:47:59.172Z"
   },
   {
    "duration": 14,
    "start_time": "2023-05-17T13:48:24.705Z"
   },
   {
    "duration": 3,
    "start_time": "2023-05-17T13:49:24.205Z"
   },
   {
    "duration": 11,
    "start_time": "2023-05-17T13:49:46.946Z"
   },
   {
    "duration": 4,
    "start_time": "2023-05-17T13:51:42.161Z"
   },
   {
    "duration": 12,
    "start_time": "2023-05-17T13:51:56.713Z"
   },
   {
    "duration": 3,
    "start_time": "2023-05-17T13:52:11.402Z"
   },
   {
    "duration": 4,
    "start_time": "2023-05-17T13:52:14.422Z"
   },
   {
    "duration": 28,
    "start_time": "2023-05-17T13:52:14.855Z"
   },
   {
    "duration": 1594,
    "start_time": "2023-05-17T13:52:29.131Z"
   },
   {
    "duration": 839,
    "start_time": "2023-05-17T13:52:30.728Z"
   },
   {
    "duration": 4,
    "start_time": "2023-05-17T13:52:31.569Z"
   },
   {
    "duration": 211,
    "start_time": "2023-05-17T13:52:31.575Z"
   },
   {
    "duration": 71,
    "start_time": "2023-05-17T13:52:31.797Z"
   },
   {
    "duration": 168,
    "start_time": "2023-05-17T13:52:31.870Z"
   },
   {
    "duration": 3,
    "start_time": "2023-05-17T13:52:32.040Z"
   },
   {
    "duration": 37,
    "start_time": "2023-05-17T13:52:32.044Z"
   },
   {
    "duration": 57,
    "start_time": "2023-05-17T13:52:32.082Z"
   },
   {
    "duration": 12,
    "start_time": "2023-05-17T13:52:32.140Z"
   },
   {
    "duration": 22,
    "start_time": "2023-05-17T13:52:32.154Z"
   },
   {
    "duration": 27,
    "start_time": "2023-05-17T13:52:32.178Z"
   },
   {
    "duration": 35,
    "start_time": "2023-05-17T13:52:32.207Z"
   },
   {
    "duration": 60,
    "start_time": "2023-05-17T13:52:32.245Z"
   },
   {
    "duration": 5,
    "start_time": "2023-05-17T13:52:32.307Z"
   },
   {
    "duration": 1423,
    "start_time": "2023-05-17T13:52:32.314Z"
   },
   {
    "duration": 1049,
    "start_time": "2023-05-17T13:52:33.739Z"
   },
   {
    "duration": 1125,
    "start_time": "2023-05-17T13:52:34.804Z"
   },
   {
    "duration": 5,
    "start_time": "2023-05-17T13:52:35.931Z"
   },
   {
    "duration": 278,
    "start_time": "2023-05-17T13:52:35.939Z"
   },
   {
    "duration": 273,
    "start_time": "2023-05-17T13:52:36.219Z"
   },
   {
    "duration": 5,
    "start_time": "2023-05-17T13:52:36.494Z"
   },
   {
    "duration": 2061,
    "start_time": "2023-05-17T13:52:36.501Z"
   },
   {
    "duration": 4,
    "start_time": "2023-05-17T13:52:38.564Z"
   },
   {
    "duration": 49,
    "start_time": "2023-05-17T13:52:38.570Z"
   },
   {
    "duration": 4,
    "start_time": "2023-05-17T13:52:38.620Z"
   },
   {
    "duration": 10,
    "start_time": "2023-05-17T13:52:38.626Z"
   },
   {
    "duration": 9,
    "start_time": "2023-05-17T13:52:38.638Z"
   },
   {
    "duration": 18,
    "start_time": "2023-05-17T13:52:38.649Z"
   },
   {
    "duration": 34,
    "start_time": "2023-05-17T13:52:38.669Z"
   },
   {
    "duration": 7,
    "start_time": "2023-05-17T13:52:38.706Z"
   },
   {
    "duration": 4796,
    "start_time": "2023-05-17T13:52:38.714Z"
   },
   {
    "duration": 300,
    "start_time": "2023-05-17T13:52:43.512Z"
   },
   {
    "duration": 11,
    "start_time": "2023-05-17T13:52:43.814Z"
   },
   {
    "duration": 15,
    "start_time": "2023-05-17T13:56:19.830Z"
   },
   {
    "duration": 3,
    "start_time": "2023-05-17T13:56:46.727Z"
   },
   {
    "duration": 3,
    "start_time": "2023-05-17T13:56:55.983Z"
   },
   {
    "duration": 3,
    "start_time": "2023-05-17T13:57:06.467Z"
   },
   {
    "duration": 4800,
    "start_time": "2023-05-17T14:12:26.788Z"
   },
   {
    "duration": 8,
    "start_time": "2023-05-17T14:12:31.591Z"
   },
   {
    "duration": 48,
    "start_time": "2023-05-17T14:13:23.999Z"
   },
   {
    "duration": 48,
    "start_time": "2023-05-17T14:13:55.787Z"
   },
   {
    "duration": 1430,
    "start_time": "2023-05-17T14:14:12.046Z"
   },
   {
    "duration": 772,
    "start_time": "2023-05-17T14:14:13.478Z"
   },
   {
    "duration": 4,
    "start_time": "2023-05-17T14:14:14.252Z"
   },
   {
    "duration": 201,
    "start_time": "2023-05-17T14:14:14.257Z"
   },
   {
    "duration": 66,
    "start_time": "2023-05-17T14:14:14.460Z"
   },
   {
    "duration": 171,
    "start_time": "2023-05-17T14:14:14.528Z"
   },
   {
    "duration": 6,
    "start_time": "2023-05-17T14:14:14.701Z"
   },
   {
    "duration": 26,
    "start_time": "2023-05-17T14:14:14.709Z"
   },
   {
    "duration": 58,
    "start_time": "2023-05-17T14:14:14.737Z"
   },
   {
    "duration": 21,
    "start_time": "2023-05-17T14:14:14.797Z"
   },
   {
    "duration": 6,
    "start_time": "2023-05-17T14:14:14.821Z"
   },
   {
    "duration": 9,
    "start_time": "2023-05-17T14:14:14.829Z"
   },
   {
    "duration": 34,
    "start_time": "2023-05-17T14:14:14.840Z"
   },
   {
    "duration": 19,
    "start_time": "2023-05-17T14:14:14.877Z"
   },
   {
    "duration": 21,
    "start_time": "2023-05-17T14:14:14.898Z"
   },
   {
    "duration": 1311,
    "start_time": "2023-05-17T14:14:14.920Z"
   },
   {
    "duration": 1001,
    "start_time": "2023-05-17T14:14:16.233Z"
   },
   {
    "duration": 1067,
    "start_time": "2023-05-17T14:14:17.236Z"
   },
   {
    "duration": 4,
    "start_time": "2023-05-17T14:14:18.305Z"
   },
   {
    "duration": 254,
    "start_time": "2023-05-17T14:14:18.311Z"
   },
   {
    "duration": 275,
    "start_time": "2023-05-17T14:14:18.567Z"
   },
   {
    "duration": 3,
    "start_time": "2023-05-17T14:14:18.844Z"
   },
   {
    "duration": 2098,
    "start_time": "2023-05-17T14:14:18.849Z"
   },
   {
    "duration": 5,
    "start_time": "2023-05-17T14:14:20.949Z"
   },
   {
    "duration": 33,
    "start_time": "2023-05-17T14:14:20.957Z"
   },
   {
    "duration": 4,
    "start_time": "2023-05-17T14:14:20.993Z"
   },
   {
    "duration": 14,
    "start_time": "2023-05-17T14:14:20.998Z"
   },
   {
    "duration": 3,
    "start_time": "2023-05-17T14:14:21.015Z"
   },
   {
    "duration": 8,
    "start_time": "2023-05-17T14:14:21.021Z"
   },
   {
    "duration": 8,
    "start_time": "2023-05-17T14:14:21.030Z"
   },
   {
    "duration": 23,
    "start_time": "2023-05-17T14:14:21.040Z"
   },
   {
    "duration": 2928,
    "start_time": "2023-05-17T14:14:21.065Z"
   },
   {
    "duration": 261,
    "start_time": "2023-05-17T14:14:23.995Z"
   },
   {
    "duration": 0,
    "start_time": "2023-05-17T14:14:24.258Z"
   },
   {
    "duration": 0,
    "start_time": "2023-05-17T14:14:24.260Z"
   },
   {
    "duration": 0,
    "start_time": "2023-05-17T14:14:24.261Z"
   },
   {
    "duration": 4,
    "start_time": "2023-05-17T14:14:46.303Z"
   },
   {
    "duration": 43,
    "start_time": "2023-05-17T14:14:48.119Z"
   },
   {
    "duration": 39,
    "start_time": "2023-05-17T14:15:35.527Z"
   },
   {
    "duration": 61,
    "start_time": "2023-05-17T14:36:36.715Z"
   },
   {
    "duration": 55,
    "start_time": "2023-05-17T14:37:20.942Z"
   },
   {
    "duration": 18,
    "start_time": "2023-05-17T14:37:31.130Z"
   },
   {
    "duration": 37,
    "start_time": "2023-05-17T14:38:52.307Z"
   },
   {
    "duration": 21,
    "start_time": "2023-05-17T14:39:06.984Z"
   },
   {
    "duration": 16,
    "start_time": "2023-05-17T14:39:26.972Z"
   },
   {
    "duration": 60149,
    "start_time": "2023-05-17T14:39:39.885Z"
   },
   {
    "duration": 70852,
    "start_time": "2023-05-17T14:43:07.247Z"
   },
   {
    "duration": 58465,
    "start_time": "2023-05-17T14:49:11.418Z"
   },
   {
    "duration": 10,
    "start_time": "2023-05-17T14:50:09.885Z"
   },
   {
    "duration": 56823,
    "start_time": "2023-05-17T14:52:52.001Z"
   },
   {
    "duration": 60850,
    "start_time": "2023-05-17T14:54:17.446Z"
   },
   {
    "duration": 60239,
    "start_time": "2023-05-17T15:36:16.803Z"
   },
   {
    "duration": 44,
    "start_time": "2023-05-17T16:19:50.442Z"
   },
   {
    "duration": 19,
    "start_time": "2023-05-17T16:22:15.406Z"
   },
   {
    "duration": 16,
    "start_time": "2023-05-17T16:23:37.648Z"
   },
   {
    "duration": 17,
    "start_time": "2023-05-17T16:23:48.354Z"
   },
   {
    "duration": 1609,
    "start_time": "2023-05-17T17:13:02.919Z"
   },
   {
    "duration": 933,
    "start_time": "2023-05-17T17:13:04.530Z"
   },
   {
    "duration": 4,
    "start_time": "2023-05-17T17:13:05.465Z"
   },
   {
    "duration": 200,
    "start_time": "2023-05-17T17:13:05.471Z"
   },
   {
    "duration": 66,
    "start_time": "2023-05-17T17:13:05.674Z"
   },
   {
    "duration": 182,
    "start_time": "2023-05-17T17:13:05.742Z"
   },
   {
    "duration": 4,
    "start_time": "2023-05-17T17:13:05.925Z"
   },
   {
    "duration": 18,
    "start_time": "2023-05-17T17:13:05.930Z"
   },
   {
    "duration": 71,
    "start_time": "2023-05-17T17:13:05.950Z"
   },
   {
    "duration": 14,
    "start_time": "2023-05-17T17:13:06.023Z"
   },
   {
    "duration": 7,
    "start_time": "2023-05-17T17:13:06.038Z"
   },
   {
    "duration": 17,
    "start_time": "2023-05-17T17:13:06.047Z"
   },
   {
    "duration": 17,
    "start_time": "2023-05-17T17:13:06.066Z"
   },
   {
    "duration": 17,
    "start_time": "2023-05-17T17:13:06.090Z"
   },
   {
    "duration": 15,
    "start_time": "2023-05-17T17:13:06.109Z"
   },
   {
    "duration": 1547,
    "start_time": "2023-05-17T17:13:06.125Z"
   },
   {
    "duration": 1077,
    "start_time": "2023-05-17T17:13:07.673Z"
   },
   {
    "duration": 1189,
    "start_time": "2023-05-17T17:13:08.753Z"
   },
   {
    "duration": 4,
    "start_time": "2023-05-17T17:13:09.945Z"
   },
   {
    "duration": 309,
    "start_time": "2023-05-17T17:13:09.951Z"
   },
   {
    "duration": 356,
    "start_time": "2023-05-17T17:13:10.262Z"
   },
   {
    "duration": 5,
    "start_time": "2023-05-17T17:13:10.620Z"
   },
   {
    "duration": 2306,
    "start_time": "2023-05-17T17:13:10.629Z"
   },
   {
    "duration": 5,
    "start_time": "2023-05-17T17:13:12.938Z"
   },
   {
    "duration": 34,
    "start_time": "2023-05-17T17:13:12.945Z"
   },
   {
    "duration": 18,
    "start_time": "2023-05-17T17:13:12.988Z"
   },
   {
    "duration": 8,
    "start_time": "2023-05-17T17:13:13.021Z"
   },
   {
    "duration": 4,
    "start_time": "2023-05-17T17:13:13.032Z"
   },
   {
    "duration": 5,
    "start_time": "2023-05-17T17:13:13.038Z"
   },
   {
    "duration": 13,
    "start_time": "2023-05-17T17:13:13.044Z"
   },
   {
    "duration": 13,
    "start_time": "2023-05-17T17:13:13.059Z"
   },
   {
    "duration": 10643,
    "start_time": "2023-05-17T17:13:13.073Z"
   },
   {
    "duration": 7,
    "start_time": "2023-05-17T17:13:23.721Z"
   },
   {
    "duration": 60811,
    "start_time": "2023-05-17T17:13:23.730Z"
   },
   {
    "duration": 1671,
    "start_time": "2023-05-17T17:18:27.256Z"
   },
   {
    "duration": 888,
    "start_time": "2023-05-17T17:18:28.929Z"
   },
   {
    "duration": 5,
    "start_time": "2023-05-17T17:18:29.820Z"
   },
   {
    "duration": 227,
    "start_time": "2023-05-17T17:18:29.827Z"
   },
   {
    "duration": 65,
    "start_time": "2023-05-17T17:18:30.056Z"
   },
   {
    "duration": 203,
    "start_time": "2023-05-17T17:18:30.123Z"
   },
   {
    "duration": 4,
    "start_time": "2023-05-17T17:18:30.328Z"
   },
   {
    "duration": 73,
    "start_time": "2023-05-17T17:18:30.334Z"
   },
   {
    "duration": 72,
    "start_time": "2023-05-17T17:18:30.409Z"
   },
   {
    "duration": 68,
    "start_time": "2023-05-17T17:18:30.483Z"
   },
   {
    "duration": 50,
    "start_time": "2023-05-17T17:18:30.553Z"
   },
   {
    "duration": 45,
    "start_time": "2023-05-17T17:18:30.605Z"
   },
   {
    "duration": 78,
    "start_time": "2023-05-17T17:18:30.652Z"
   },
   {
    "duration": 44,
    "start_time": "2023-05-17T17:18:30.735Z"
   },
   {
    "duration": 103,
    "start_time": "2023-05-17T17:18:30.782Z"
   },
   {
    "duration": 1714,
    "start_time": "2023-05-17T17:18:30.887Z"
   },
   {
    "duration": 1143,
    "start_time": "2023-05-17T17:18:32.603Z"
   },
   {
    "duration": 1219,
    "start_time": "2023-05-17T17:18:33.748Z"
   },
   {
    "duration": 4,
    "start_time": "2023-05-17T17:18:34.969Z"
   },
   {
    "duration": 288,
    "start_time": "2023-05-17T17:18:34.975Z"
   },
   {
    "duration": 300,
    "start_time": "2023-05-17T17:18:35.265Z"
   },
   {
    "duration": 3,
    "start_time": "2023-05-17T17:18:35.568Z"
   },
   {
    "duration": 2209,
    "start_time": "2023-05-17T17:18:35.573Z"
   },
   {
    "duration": 11,
    "start_time": "2023-05-17T17:18:37.788Z"
   },
   {
    "duration": 24,
    "start_time": "2023-05-17T17:18:37.812Z"
   },
   {
    "duration": 4,
    "start_time": "2023-05-17T17:18:37.838Z"
   },
   {
    "duration": 5,
    "start_time": "2023-05-17T17:18:37.843Z"
   },
   {
    "duration": 6,
    "start_time": "2023-05-17T17:18:37.850Z"
   },
   {
    "duration": 3,
    "start_time": "2023-05-17T17:18:37.858Z"
   },
   {
    "duration": 8,
    "start_time": "2023-05-17T17:18:37.862Z"
   },
   {
    "duration": 39,
    "start_time": "2023-05-17T17:18:37.872Z"
   },
   {
    "duration": 7484,
    "start_time": "2023-05-17T17:18:37.915Z"
   },
   {
    "duration": 6,
    "start_time": "2023-05-17T17:18:45.403Z"
   },
   {
    "duration": 60902,
    "start_time": "2023-05-17T17:18:45.411Z"
   },
   {
    "duration": 2407,
    "start_time": "2023-05-17T18:53:24.361Z"
   },
   {
    "duration": 1408,
    "start_time": "2023-05-17T18:53:26.782Z"
   },
   {
    "duration": 7,
    "start_time": "2023-05-17T18:53:28.198Z"
   },
   {
    "duration": 289,
    "start_time": "2023-05-17T18:53:28.215Z"
   },
   {
    "duration": 95,
    "start_time": "2023-05-17T18:53:28.515Z"
   },
   {
    "duration": 261,
    "start_time": "2023-05-17T18:53:28.619Z"
   },
   {
    "duration": 27,
    "start_time": "2023-05-17T18:53:28.896Z"
   },
   {
    "duration": 59,
    "start_time": "2023-05-17T18:53:28.940Z"
   },
   {
    "duration": 55,
    "start_time": "2023-05-17T18:53:29.001Z"
   },
   {
    "duration": 22,
    "start_time": "2023-05-17T18:53:29.058Z"
   },
   {
    "duration": 9,
    "start_time": "2023-05-17T18:53:29.087Z"
   },
   {
    "duration": 32,
    "start_time": "2023-05-17T18:53:29.103Z"
   },
   {
    "duration": 50,
    "start_time": "2023-05-17T18:53:29.147Z"
   },
   {
    "duration": 15,
    "start_time": "2023-05-17T18:53:29.209Z"
   },
   {
    "duration": 8,
    "start_time": "2023-05-17T18:53:29.233Z"
   },
   {
    "duration": 2255,
    "start_time": "2023-05-17T18:53:29.248Z"
   },
   {
    "duration": 1645,
    "start_time": "2023-05-17T18:53:31.510Z"
   },
   {
    "duration": 1669,
    "start_time": "2023-05-17T18:53:33.162Z"
   },
   {
    "duration": 11,
    "start_time": "2023-05-17T18:53:34.838Z"
   },
   {
    "duration": 414,
    "start_time": "2023-05-17T18:53:34.856Z"
   },
   {
    "duration": 495,
    "start_time": "2023-05-17T18:53:35.276Z"
   },
   {
    "duration": 8,
    "start_time": "2023-05-17T18:53:35.779Z"
   },
   {
    "duration": 3257,
    "start_time": "2023-05-17T18:53:35.793Z"
   },
   {
    "duration": 6,
    "start_time": "2023-05-17T18:53:39.056Z"
   },
   {
    "duration": 62,
    "start_time": "2023-05-17T18:53:39.065Z"
   },
   {
    "duration": 13,
    "start_time": "2023-05-17T18:53:39.136Z"
   },
   {
    "duration": 18,
    "start_time": "2023-05-17T18:53:39.160Z"
   },
   {
    "duration": 10,
    "start_time": "2023-05-17T18:53:39.185Z"
   },
   {
    "duration": 11,
    "start_time": "2023-05-17T18:53:39.200Z"
   },
   {
    "duration": 13,
    "start_time": "2023-05-17T18:53:39.213Z"
   },
   {
    "duration": 311,
    "start_time": "2023-05-17T18:53:39.228Z"
   },
   {
    "duration": 0,
    "start_time": "2023-05-17T18:53:39.553Z"
   },
   {
    "duration": 0,
    "start_time": "2023-05-17T18:53:39.555Z"
   },
   {
    "duration": 0,
    "start_time": "2023-05-17T18:53:39.557Z"
   },
   {
    "duration": 0,
    "start_time": "2023-05-17T18:53:39.571Z"
   },
   {
    "duration": 30,
    "start_time": "2023-05-17T18:54:25.209Z"
   },
   {
    "duration": 5929,
    "start_time": "2023-05-17T18:54:29.220Z"
   },
   {
    "duration": 9,
    "start_time": "2023-05-17T18:54:35.156Z"
   },
   {
    "duration": 78423,
    "start_time": "2023-05-17T18:54:37.549Z"
   },
   {
    "duration": 8,
    "start_time": "2023-05-17T19:03:23.822Z"
   },
   {
    "duration": 73,
    "start_time": "2023-05-17T19:03:35.662Z"
   },
   {
    "duration": 17435,
    "start_time": "2023-05-17T19:04:35.249Z"
   },
   {
    "duration": 18951,
    "start_time": "2023-05-17T19:06:51.002Z"
   },
   {
    "duration": 203970,
    "start_time": "2023-05-17T19:12:10.906Z"
   },
   {
    "duration": 390024,
    "start_time": "2023-05-17T19:25:45.643Z"
   },
   {
    "duration": 385264,
    "start_time": "2023-05-17T19:39:51.304Z"
   },
   {
    "duration": 11,
    "start_time": "2023-05-17T19:54:13.014Z"
   },
   {
    "duration": 5974,
    "start_time": "2023-05-17T20:03:32.401Z"
   },
   {
    "duration": 6005,
    "start_time": "2023-05-17T20:03:56.416Z"
   },
   {
    "duration": 5849,
    "start_time": "2023-05-17T20:04:12.251Z"
   },
   {
    "duration": 5583,
    "start_time": "2023-05-17T20:10:37.113Z"
   },
   {
    "duration": 5429,
    "start_time": "2023-05-17T20:12:54.615Z"
   },
   {
    "duration": 5697,
    "start_time": "2023-05-17T20:14:00.121Z"
   },
   {
    "duration": 5462,
    "start_time": "2023-05-17T20:15:20.827Z"
   },
   {
    "duration": 1622,
    "start_time": "2023-05-17T20:42:12.837Z"
   },
   {
    "duration": 1179,
    "start_time": "2023-05-17T20:42:14.461Z"
   },
   {
    "duration": 4,
    "start_time": "2023-05-17T20:42:15.642Z"
   },
   {
    "duration": 217,
    "start_time": "2023-05-17T20:42:15.648Z"
   },
   {
    "duration": 75,
    "start_time": "2023-05-17T20:42:15.867Z"
   },
   {
    "duration": 167,
    "start_time": "2023-05-17T20:42:15.944Z"
   },
   {
    "duration": 4,
    "start_time": "2023-05-17T20:42:16.113Z"
   },
   {
    "duration": 29,
    "start_time": "2023-05-17T20:42:16.119Z"
   },
   {
    "duration": 55,
    "start_time": "2023-05-17T20:42:16.149Z"
   },
   {
    "duration": 13,
    "start_time": "2023-05-17T20:42:16.206Z"
   },
   {
    "duration": 5,
    "start_time": "2023-05-17T20:42:16.221Z"
   },
   {
    "duration": 6,
    "start_time": "2023-05-17T20:42:16.228Z"
   },
   {
    "duration": 16,
    "start_time": "2023-05-17T20:42:16.236Z"
   },
   {
    "duration": 42,
    "start_time": "2023-05-17T20:42:16.256Z"
   },
   {
    "duration": 11,
    "start_time": "2023-05-17T20:42:16.304Z"
   },
   {
    "duration": 1359,
    "start_time": "2023-05-17T20:42:16.318Z"
   },
   {
    "duration": 985,
    "start_time": "2023-05-17T20:42:17.679Z"
   },
   {
    "duration": 1199,
    "start_time": "2023-05-17T20:42:18.666Z"
   },
   {
    "duration": 4,
    "start_time": "2023-05-17T20:42:19.867Z"
   },
   {
    "duration": 271,
    "start_time": "2023-05-17T20:42:19.874Z"
   },
   {
    "duration": 347,
    "start_time": "2023-05-17T20:42:20.147Z"
   },
   {
    "duration": 11,
    "start_time": "2023-05-17T20:42:20.497Z"
   },
   {
    "duration": 2153,
    "start_time": "2023-05-17T20:42:20.510Z"
   },
   {
    "duration": 4,
    "start_time": "2023-05-17T20:42:22.666Z"
   },
   {
    "duration": 33,
    "start_time": "2023-05-17T20:42:22.673Z"
   },
   {
    "duration": 4,
    "start_time": "2023-05-17T20:42:22.709Z"
   },
   {
    "duration": 23,
    "start_time": "2023-05-17T20:42:22.714Z"
   },
   {
    "duration": 20,
    "start_time": "2023-05-17T20:42:22.738Z"
   },
   {
    "duration": 9,
    "start_time": "2023-05-17T20:42:22.760Z"
   },
   {
    "duration": 16,
    "start_time": "2023-05-17T20:42:22.772Z"
   },
   {
    "duration": 26,
    "start_time": "2023-05-17T20:42:22.796Z"
   },
   {
    "duration": 5189,
    "start_time": "2023-05-17T20:42:22.824Z"
   },
   {
    "duration": 3,
    "start_time": "2023-05-17T20:42:28.017Z"
   },
   {
    "duration": 59081,
    "start_time": "2023-05-17T20:42:28.096Z"
   },
   {
    "duration": 361778,
    "start_time": "2023-05-17T20:43:27.179Z"
   },
   {
    "duration": 5888,
    "start_time": "2023-05-17T20:49:28.959Z"
   },
   {
    "duration": 4304,
    "start_time": "2023-05-18T06:59:25.688Z"
   },
   {
    "duration": 717,
    "start_time": "2023-05-18T06:59:29.995Z"
   },
   {
    "duration": 4,
    "start_time": "2023-05-18T06:59:30.713Z"
   },
   {
    "duration": 195,
    "start_time": "2023-05-18T06:59:30.719Z"
   },
   {
    "duration": 35,
    "start_time": "2023-05-18T06:59:30.916Z"
   },
   {
    "duration": 176,
    "start_time": "2023-05-18T06:59:30.952Z"
   },
   {
    "duration": 3,
    "start_time": "2023-05-18T06:59:31.129Z"
   },
   {
    "duration": 37,
    "start_time": "2023-05-18T06:59:31.134Z"
   },
   {
    "duration": 68,
    "start_time": "2023-05-18T06:59:31.173Z"
   },
   {
    "duration": 36,
    "start_time": "2023-05-18T06:59:31.243Z"
   },
   {
    "duration": 42,
    "start_time": "2023-05-18T06:59:31.281Z"
   },
   {
    "duration": 26,
    "start_time": "2023-05-18T06:59:31.325Z"
   },
   {
    "duration": 43,
    "start_time": "2023-05-18T06:59:31.352Z"
   },
   {
    "duration": 36,
    "start_time": "2023-05-18T06:59:31.398Z"
   },
   {
    "duration": 12,
    "start_time": "2023-05-18T06:59:31.435Z"
   },
   {
    "duration": 1122,
    "start_time": "2023-05-18T06:59:31.449Z"
   },
   {
    "duration": 743,
    "start_time": "2023-05-18T06:59:32.573Z"
   },
   {
    "duration": 904,
    "start_time": "2023-05-18T06:59:33.317Z"
   },
   {
    "duration": 4,
    "start_time": "2023-05-18T06:59:34.222Z"
   },
   {
    "duration": 230,
    "start_time": "2023-05-18T06:59:34.227Z"
   },
   {
    "duration": 220,
    "start_time": "2023-05-18T06:59:34.458Z"
   },
   {
    "duration": 18,
    "start_time": "2023-05-18T06:59:34.680Z"
   },
   {
    "duration": 1484,
    "start_time": "2023-05-18T06:59:34.699Z"
   },
   {
    "duration": 18,
    "start_time": "2023-05-18T06:59:36.188Z"
   },
   {
    "duration": 23,
    "start_time": "2023-05-18T06:59:36.210Z"
   },
   {
    "duration": 21,
    "start_time": "2023-05-18T06:59:36.235Z"
   },
   {
    "duration": 17,
    "start_time": "2023-05-18T06:59:36.258Z"
   },
   {
    "duration": 48,
    "start_time": "2023-05-18T06:59:36.277Z"
   },
   {
    "duration": 31,
    "start_time": "2023-05-18T06:59:36.327Z"
   },
   {
    "duration": 12,
    "start_time": "2023-05-18T06:59:36.360Z"
   },
   {
    "duration": 33,
    "start_time": "2023-05-18T06:59:36.374Z"
   },
   {
    "duration": 49,
    "start_time": "2023-05-18T06:59:36.409Z"
   },
   {
    "duration": 1551,
    "start_time": "2023-05-18T07:17:43.253Z"
   },
   {
    "duration": 3332,
    "start_time": "2023-05-18T07:17:44.807Z"
   },
   {
    "duration": 3,
    "start_time": "2023-05-18T07:17:48.141Z"
   },
   {
    "duration": 142,
    "start_time": "2023-05-18T07:17:48.145Z"
   },
   {
    "duration": 37,
    "start_time": "2023-05-18T07:17:48.289Z"
   },
   {
    "duration": 137,
    "start_time": "2023-05-18T07:17:48.328Z"
   },
   {
    "duration": 10,
    "start_time": "2023-05-18T07:17:48.466Z"
   },
   {
    "duration": 17,
    "start_time": "2023-05-18T07:17:48.477Z"
   },
   {
    "duration": 41,
    "start_time": "2023-05-18T07:17:48.495Z"
   },
   {
    "duration": 9,
    "start_time": "2023-05-18T07:17:48.538Z"
   },
   {
    "duration": 9,
    "start_time": "2023-05-18T07:17:48.548Z"
   },
   {
    "duration": 9,
    "start_time": "2023-05-18T07:17:48.559Z"
   },
   {
    "duration": 11,
    "start_time": "2023-05-18T07:17:48.574Z"
   },
   {
    "duration": 9,
    "start_time": "2023-05-18T07:17:48.588Z"
   },
   {
    "duration": 6,
    "start_time": "2023-05-18T07:17:48.598Z"
   },
   {
    "duration": 1117,
    "start_time": "2023-05-18T07:17:48.605Z"
   },
   {
    "duration": 748,
    "start_time": "2023-05-18T07:17:49.723Z"
   },
   {
    "duration": 816,
    "start_time": "2023-05-18T07:17:50.474Z"
   },
   {
    "duration": 4,
    "start_time": "2023-05-18T07:17:51.291Z"
   },
   {
    "duration": 203,
    "start_time": "2023-05-18T07:17:51.296Z"
   },
   {
    "duration": 223,
    "start_time": "2023-05-18T07:17:51.500Z"
   },
   {
    "duration": 3,
    "start_time": "2023-05-18T07:17:51.725Z"
   },
   {
    "duration": 1606,
    "start_time": "2023-05-18T07:17:51.729Z"
   },
   {
    "duration": 3,
    "start_time": "2023-05-18T07:17:53.337Z"
   },
   {
    "duration": 23,
    "start_time": "2023-05-18T07:17:53.341Z"
   },
   {
    "duration": 10,
    "start_time": "2023-05-18T07:17:53.365Z"
   },
   {
    "duration": 7,
    "start_time": "2023-05-18T07:17:53.376Z"
   },
   {
    "duration": 6,
    "start_time": "2023-05-18T07:17:53.385Z"
   },
   {
    "duration": 8,
    "start_time": "2023-05-18T07:17:53.393Z"
   },
   {
    "duration": 6,
    "start_time": "2023-05-18T07:17:53.402Z"
   },
   {
    "duration": 7,
    "start_time": "2023-05-18T07:17:53.410Z"
   },
   {
    "duration": 2960,
    "start_time": "2023-05-18T07:17:53.418Z"
   },
   {
    "duration": 3,
    "start_time": "2023-05-18T07:17:56.381Z"
   },
   {
    "duration": 49026,
    "start_time": "2023-05-18T07:17:56.387Z"
   },
   {
    "duration": 315223,
    "start_time": "2023-05-18T07:18:45.414Z"
   },
   {
    "duration": 5568,
    "start_time": "2023-05-18T07:24:00.639Z"
   },
   {
    "duration": 118,
    "start_time": "2023-05-18T07:24:06.209Z"
   },
   {
    "duration": 0,
    "start_time": "2023-05-18T07:24:06.329Z"
   },
   {
    "duration": 4,
    "start_time": "2023-05-18T07:24:44.686Z"
   },
   {
    "duration": 14,
    "start_time": "2023-05-18T07:24:56.367Z"
   },
   {
    "duration": 10,
    "start_time": "2023-05-18T07:25:09.421Z"
   },
   {
    "duration": 6,
    "start_time": "2023-05-18T07:33:03.328Z"
   },
   {
    "duration": 238,
    "start_time": "2023-05-18T07:33:07.154Z"
   },
   {
    "duration": 53,
    "start_time": "2023-05-18T07:35:56.895Z"
   },
   {
    "duration": 4,
    "start_time": "2023-05-18T07:36:03.387Z"
   },
   {
    "duration": 404,
    "start_time": "2023-05-18T07:36:10.671Z"
   },
   {
    "duration": 5,
    "start_time": "2023-05-18T07:36:27.527Z"
   },
   {
    "duration": 6,
    "start_time": "2023-05-18T07:36:39.184Z"
   },
   {
    "duration": 480,
    "start_time": "2023-05-18T07:36:41.326Z"
   },
   {
    "duration": 489,
    "start_time": "2023-05-18T07:36:47.923Z"
   },
   {
    "duration": 6,
    "start_time": "2023-05-18T07:36:59.192Z"
   },
   {
    "duration": 428,
    "start_time": "2023-05-18T07:37:00.458Z"
   },
   {
    "duration": 596,
    "start_time": "2023-05-18T07:37:01.400Z"
   },
   {
    "duration": 6,
    "start_time": "2023-05-18T07:37:09.415Z"
   },
   {
    "duration": 381,
    "start_time": "2023-05-18T07:37:10.011Z"
   },
   {
    "duration": 394,
    "start_time": "2023-05-18T07:37:11.138Z"
   },
   {
    "duration": 1296,
    "start_time": "2023-05-18T07:46:19.229Z"
   },
   {
    "duration": 772,
    "start_time": "2023-05-18T07:46:20.527Z"
   },
   {
    "duration": 3,
    "start_time": "2023-05-18T07:46:21.301Z"
   },
   {
    "duration": 150,
    "start_time": "2023-05-18T07:46:21.306Z"
   },
   {
    "duration": 43,
    "start_time": "2023-05-18T07:46:21.458Z"
   },
   {
    "duration": 137,
    "start_time": "2023-05-18T07:46:21.503Z"
   },
   {
    "duration": 3,
    "start_time": "2023-05-18T07:46:21.641Z"
   },
   {
    "duration": 29,
    "start_time": "2023-05-18T07:46:21.646Z"
   },
   {
    "duration": 31,
    "start_time": "2023-05-18T07:46:21.676Z"
   },
   {
    "duration": 10,
    "start_time": "2023-05-18T07:46:21.711Z"
   },
   {
    "duration": 4,
    "start_time": "2023-05-18T07:46:21.722Z"
   },
   {
    "duration": 5,
    "start_time": "2023-05-18T07:46:21.728Z"
   },
   {
    "duration": 11,
    "start_time": "2023-05-18T07:46:21.735Z"
   },
   {
    "duration": 11,
    "start_time": "2023-05-18T07:46:21.776Z"
   },
   {
    "duration": 5,
    "start_time": "2023-05-18T07:46:21.788Z"
   },
   {
    "duration": 1148,
    "start_time": "2023-05-18T07:46:21.794Z"
   },
   {
    "duration": 814,
    "start_time": "2023-05-18T07:46:22.943Z"
   },
   {
    "duration": 991,
    "start_time": "2023-05-18T07:46:23.758Z"
   },
   {
    "duration": 4,
    "start_time": "2023-05-18T07:46:24.751Z"
   },
   {
    "duration": 400,
    "start_time": "2023-05-18T07:46:24.756Z"
   },
   {
    "duration": 394,
    "start_time": "2023-05-18T07:46:25.158Z"
   },
   {
    "duration": 3,
    "start_time": "2023-05-18T07:46:25.554Z"
   },
   {
    "duration": 1821,
    "start_time": "2023-05-18T07:46:25.558Z"
   },
   {
    "duration": 4,
    "start_time": "2023-05-18T07:46:27.380Z"
   },
   {
    "duration": 22,
    "start_time": "2023-05-18T07:46:27.386Z"
   },
   {
    "duration": 3,
    "start_time": "2023-05-18T07:46:27.410Z"
   },
   {
    "duration": 5,
    "start_time": "2023-05-18T07:46:27.414Z"
   },
   {
    "duration": 6,
    "start_time": "2023-05-18T07:46:27.422Z"
   },
   {
    "duration": 8,
    "start_time": "2023-05-18T07:46:27.430Z"
   },
   {
    "duration": 7,
    "start_time": "2023-05-18T07:46:27.440Z"
   },
   {
    "duration": 27,
    "start_time": "2023-05-18T07:46:27.448Z"
   },
   {
    "duration": 2613,
    "start_time": "2023-05-18T07:46:27.477Z"
   },
   {
    "duration": 5,
    "start_time": "2023-05-18T07:46:30.176Z"
   },
   {
    "duration": 51348,
    "start_time": "2023-05-18T07:46:30.183Z"
   },
   {
    "duration": 313482,
    "start_time": "2023-05-18T07:47:21.533Z"
   },
   {
    "duration": 5152,
    "start_time": "2023-05-18T07:52:35.017Z"
   },
   {
    "duration": 10,
    "start_time": "2023-05-18T07:52:40.175Z"
   },
   {
    "duration": 1933,
    "start_time": "2023-08-17T22:22:50.291Z"
   },
   {
    "duration": 2304,
    "start_time": "2023-08-17T22:22:52.230Z"
   },
   {
    "duration": 4,
    "start_time": "2023-08-17T22:22:54.536Z"
   },
   {
    "duration": 199,
    "start_time": "2023-08-17T22:22:54.541Z"
   },
   {
    "duration": 68,
    "start_time": "2023-08-17T22:22:54.743Z"
   },
   {
    "duration": 165,
    "start_time": "2023-08-17T22:22:54.813Z"
   },
   {
    "duration": 4,
    "start_time": "2023-08-17T22:22:54.980Z"
   },
   {
    "duration": 46,
    "start_time": "2023-08-17T22:22:54.988Z"
   },
   {
    "duration": 53,
    "start_time": "2023-08-17T22:22:55.036Z"
   },
   {
    "duration": 23,
    "start_time": "2023-08-17T22:22:55.090Z"
   },
   {
    "duration": 7,
    "start_time": "2023-08-17T22:22:55.117Z"
   },
   {
    "duration": 31,
    "start_time": "2023-08-17T22:22:55.126Z"
   },
   {
    "duration": 57,
    "start_time": "2023-08-17T22:22:55.159Z"
   },
   {
    "duration": 54,
    "start_time": "2023-08-17T22:22:55.223Z"
   },
   {
    "duration": 7,
    "start_time": "2023-08-17T22:22:55.279Z"
   },
   {
    "duration": 1531,
    "start_time": "2023-08-17T22:22:55.287Z"
   },
   {
    "duration": 1232,
    "start_time": "2023-08-17T22:22:56.820Z"
   },
   {
    "duration": 1007,
    "start_time": "2023-08-17T22:22:58.054Z"
   },
   {
    "duration": 5,
    "start_time": "2023-08-17T22:22:59.064Z"
   },
   {
    "duration": 534,
    "start_time": "2023-08-17T22:22:59.070Z"
   },
   {
    "duration": 490,
    "start_time": "2023-08-17T22:22:59.607Z"
   },
   {
    "duration": 12,
    "start_time": "2023-08-17T22:23:00.099Z"
   },
   {
    "duration": 2483,
    "start_time": "2023-08-17T22:23:00.114Z"
   },
   {
    "duration": 4,
    "start_time": "2023-08-17T22:23:02.598Z"
   },
   {
    "duration": 78,
    "start_time": "2023-08-17T22:23:02.603Z"
   },
   {
    "duration": 3,
    "start_time": "2023-08-17T22:23:02.683Z"
   },
   {
    "duration": 6,
    "start_time": "2023-08-17T22:23:02.688Z"
   },
   {
    "duration": 8,
    "start_time": "2023-08-17T22:23:02.695Z"
   },
   {
    "duration": 12,
    "start_time": "2023-08-17T22:23:02.705Z"
   },
   {
    "duration": 14,
    "start_time": "2023-08-17T22:23:02.720Z"
   },
   {
    "duration": 14,
    "start_time": "2023-08-17T22:23:02.737Z"
   },
   {
    "duration": 7985,
    "start_time": "2023-08-17T22:23:02.753Z"
   },
   {
    "duration": 81,
    "start_time": "2023-08-17T22:23:10.743Z"
   },
   {
    "duration": 56106,
    "start_time": "2023-08-17T22:23:10.827Z"
   },
   {
    "duration": 332379,
    "start_time": "2023-08-17T22:24:06.936Z"
   },
   {
    "duration": 5193,
    "start_time": "2023-08-17T22:29:39.317Z"
   },
   {
    "duration": 12,
    "start_time": "2023-08-17T22:29:44.512Z"
   },
   {
    "duration": 1924,
    "start_time": "2023-10-23T18:39:01.535Z"
   },
   {
    "duration": 3277,
    "start_time": "2023-10-23T18:39:03.462Z"
   },
   {
    "duration": 4,
    "start_time": "2023-10-23T18:39:06.741Z"
   },
   {
    "duration": 185,
    "start_time": "2023-10-23T18:39:06.747Z"
   },
   {
    "duration": 62,
    "start_time": "2023-10-23T18:39:06.935Z"
   },
   {
    "duration": 159,
    "start_time": "2023-10-23T18:39:06.999Z"
   },
   {
    "duration": 3,
    "start_time": "2023-10-23T18:39:07.160Z"
   },
   {
    "duration": 26,
    "start_time": "2023-10-23T18:39:07.165Z"
   },
   {
    "duration": 64,
    "start_time": "2023-10-23T18:39:07.193Z"
   },
   {
    "duration": 11,
    "start_time": "2023-10-23T18:39:07.260Z"
   },
   {
    "duration": 67,
    "start_time": "2023-10-23T18:39:07.272Z"
   },
   {
    "duration": 15,
    "start_time": "2023-10-23T18:39:07.341Z"
   },
   {
    "duration": 69,
    "start_time": "2023-10-23T18:39:07.358Z"
   },
   {
    "duration": 46,
    "start_time": "2023-10-23T18:39:07.429Z"
   },
   {
    "duration": 24,
    "start_time": "2023-10-23T18:39:07.477Z"
   },
   {
    "duration": 1288,
    "start_time": "2023-10-23T18:39:07.503Z"
   },
   {
    "duration": 1015,
    "start_time": "2023-10-23T18:39:08.793Z"
   },
   {
    "duration": 1034,
    "start_time": "2023-10-23T18:39:09.809Z"
   },
   {
    "duration": 13,
    "start_time": "2023-10-23T18:39:10.845Z"
   },
   {
    "duration": 436,
    "start_time": "2023-10-23T18:39:10.859Z"
   },
   {
    "duration": 462,
    "start_time": "2023-10-23T18:39:11.297Z"
   },
   {
    "duration": 3,
    "start_time": "2023-10-23T18:39:11.761Z"
   },
   {
    "duration": 2081,
    "start_time": "2023-10-23T18:39:11.765Z"
   },
   {
    "duration": 11,
    "start_time": "2023-10-23T18:39:13.847Z"
   },
   {
    "duration": 42,
    "start_time": "2023-10-23T18:39:13.860Z"
   },
   {
    "duration": 3,
    "start_time": "2023-10-23T18:39:13.904Z"
   },
   {
    "duration": 7,
    "start_time": "2023-10-23T18:39:13.909Z"
   },
   {
    "duration": 9,
    "start_time": "2023-10-23T18:39:13.919Z"
   },
   {
    "duration": 7,
    "start_time": "2023-10-23T18:39:13.930Z"
   },
   {
    "duration": 24,
    "start_time": "2023-10-23T18:39:13.938Z"
   },
   {
    "duration": 11,
    "start_time": "2023-10-23T18:39:13.964Z"
   },
   {
    "duration": 3378,
    "start_time": "2023-10-23T18:39:13.977Z"
   },
   {
    "duration": 5,
    "start_time": "2023-10-23T18:39:17.360Z"
   },
   {
    "duration": 54894,
    "start_time": "2023-10-23T18:39:17.367Z"
   },
   {
    "duration": 342810,
    "start_time": "2023-10-23T18:40:12.263Z"
   },
   {
    "duration": 5693,
    "start_time": "2023-10-23T18:45:55.075Z"
   },
   {
    "duration": 11,
    "start_time": "2023-10-23T18:46:00.770Z"
   }
  ],
  "kernelspec": {
   "display_name": "Python 3 (ipykernel)",
   "language": "python",
   "name": "python3"
  },
  "language_info": {
   "codemirror_mode": {
    "name": "ipython",
    "version": 3
   },
   "file_extension": ".py",
   "mimetype": "text/x-python",
   "name": "python",
   "nbconvert_exporter": "python",
   "pygments_lexer": "ipython3",
   "version": "3.9.13"
  },
  "toc": {
   "base_numbering": 1,
   "nav_menu": {},
   "number_sections": true,
   "sideBar": true,
   "skip_h1_title": true,
   "title_cell": "Содержание",
   "title_sidebar": "Contents",
   "toc_cell": true,
   "toc_position": {},
   "toc_section_display": true,
   "toc_window_display": true
  }
 },
 "nbformat": 4,
 "nbformat_minor": 2
}
